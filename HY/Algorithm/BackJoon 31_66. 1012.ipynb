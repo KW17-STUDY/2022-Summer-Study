{
 "cells": [
  {
   "cell_type": "code",
   "execution_count": null,
   "id": "151aabe5",
   "metadata": {},
   "outputs": [],
   "source": [
    "import sys\n",
    "input = sys.stdin.readline\n",
    "\n",
    "T = int(input())\n",
    "\n",
    "def DFS(Map, M, N, start_node):\n",
    "    stack = [start_node]\n",
    "    dx = [0, -1, 0, 1]\n",
    "    dy = [-1, 0 ,1, 0]\n",
    "    Map[start_node[0]][start_node[1]] = 0\n",
    "    while stack:\n",
    "        y, x = stack.pop()\n",
    "        for i in range(4):\n",
    "            if x + dx[i] > M-1 or x + dx[i] < 0 or y + dy[i] > N-1 or y + dy[i] < 0:\n",
    "                continue\n",
    "            else:\n",
    "                if Map[y + dy[i]][x + dx[i]] == 1:\n",
    "                    Map[y + dy[i]][x + dx[i]] = 0\n",
    "                    stack.append((y+dy[i], x+dx[i]))\n",
    "                    \n",
    "    return True\n",
    "\n",
    "for _ in range(T):\n",
    "    M, N, K = map(int, input().split())\n",
    "    cnt = 0\n",
    "    Map = [[0 for _ in range(M)] for _ in range(N)]\n",
    "    for _ in range(K):\n",
    "        X, Y = map(int, input().split())\n",
    "        Map[Y][X] = 1\n",
    "    for i in range(N):\n",
    "        for j in range(M):\n",
    "            if Map[i][j] == 1:\n",
    "                DFS(Map, M, N, (i, j))\n",
    "                cnt += 1\n",
    "    print(cnt)\n",
    "    \n",
    "\n",
    "        \n",
    "    "
   ]
  }
 ],
 "metadata": {
  "kernelspec": {
   "display_name": "Python 3",
   "language": "python",
   "name": "python3"
  },
  "language_info": {
   "codemirror_mode": {
    "name": "ipython",
    "version": 3
   },
   "file_extension": ".py",
   "mimetype": "text/x-python",
   "name": "python",
   "nbconvert_exporter": "python",
   "pygments_lexer": "ipython3",
   "version": "3.8.11"
  }
 },
 "nbformat": 4,
 "nbformat_minor": 5
}
