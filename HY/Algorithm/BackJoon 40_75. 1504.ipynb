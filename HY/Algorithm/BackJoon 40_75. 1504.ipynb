{
 "cells": [
  {
   "cell_type": "markdown",
   "id": "307f8b1f",
   "metadata": {},
   "source": [
    "이번 문제는 어떻게 풀어야 할지에 대해 고민했던 결과  \n",
    "두개의 경로를 거쳐야 한다면 그 두 경로에 대해서도 다익스트라를 구하면 되지 않을까 고민을 했었다.  \n",
    "하지만 해보지도 않고 안될거 같다라고 생각했었는데(1차적으로 구한 최적 값에 이미 두개 경로를 거쳤다면?)\n",
    "다른 코드를 참조해본 결과 내가 생각한 것 그대로 구현했었다.  \n",
    "다음부터는 아이디어가 떠오르면 한번 부딪혀보기라도 해야지  "
   ]
  },
  {
   "cell_type": "code",
   "execution_count": null,
   "id": "e6cfdce6",
   "metadata": {},
   "outputs": [],
   "source": [
    "import heapq\n",
    "from collections import defaultdict\n",
    "import sys\n",
    "\n",
    "INF = int(1e9)\n",
    "\n",
    "input = sys.stdin.readline\n",
    "\n",
    "N, E = map(int, input().split())\n",
    "\n",
    "Map = defaultdict(list)\n",
    "\n",
    "for _ in range(E):\n",
    "    a, b, c = map(int, input().split())\n",
    "    Map[a].append((b, c))\n",
    "    Map[b].append((a, c))\n",
    "\n",
    "v1, v2 = map(int, input().split())\n",
    "\n",
    "def dijkstra(Map, start, end):\n",
    "    dist = [INF for _ in range(N+1)]\n",
    "    dist[start] = 0\n",
    "    queue = []\n",
    "    \n",
    "    heapq.heappush(queue, (dist[start], start))\n",
    "    \n",
    "    while queue:\n",
    "        cur_dist, cur_start = heapq.heappop(queue)\n",
    "        \n",
    "        if cur_dist > dist[cur_start]:\n",
    "            continue\n",
    "        \n",
    "        for new_start, new_dist in Map[cur_start]:\n",
    "            new_road = new_dist + cur_dist\n",
    "            if new_road < dist[new_start]:\n",
    "                dist[new_start] = new_road\n",
    "                heapq.heappush(queue, (new_road, new_start))\n",
    "                \n",
    "    return dist[end]\n",
    "\n",
    "case1 = dijkstra(Map, 1, v1) + dijkstra(Map, v1, v2) + dijkstra(Map, v2, N)\n",
    "case2 = dijkstra(Map, 1, v2) + dijkstra(Map, v2, v1) + dijkstra(Map, v1, N)\n",
    "\n",
    "result = min(case1, case2)\n",
    "\n",
    "if result >= INF:\n",
    "    print(-1)\n",
    "else:\n",
    "    print(result)\n",
    "        "
   ]
  }
 ],
 "metadata": {
  "kernelspec": {
   "display_name": "Python 3",
   "language": "python",
   "name": "python3"
  },
  "language_info": {
   "codemirror_mode": {
    "name": "ipython",
    "version": 3
   },
   "file_extension": ".py",
   "mimetype": "text/x-python",
   "name": "python",
   "nbconvert_exporter": "python",
   "pygments_lexer": "ipython3",
   "version": "3.8.11"
  }
 },
 "nbformat": 4,
 "nbformat_minor": 5
}
