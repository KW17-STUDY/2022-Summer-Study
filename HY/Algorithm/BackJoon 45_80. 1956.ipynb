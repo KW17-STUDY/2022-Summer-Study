{
 "cells": [
  {
   "cell_type": "markdown",
   "id": "4ea308b3",
   "metadata": {},
   "source": [
    "pypy3로 해야 시간 초과 안뜸..."
   ]
  },
  {
   "cell_type": "code",
   "execution_count": null,
   "id": "8e3a93e7",
   "metadata": {},
   "outputs": [],
   "source": [
    "import sys\n",
    "\n",
    "input = sys.stdin.readline\n",
    "INF = int(1e9)\n",
    "V, E = map(int, input().split())\n",
    "dist = [[INF for _ in range(V+1)] for _ in range(V+1)]\n",
    "for _ in range(E):\n",
    "    a, b, c = map(int, input().split())\n",
    "    dist[a][b] = c\n",
    "\n",
    "for i in range(1, V+1):\n",
    "    dist[i][i] = 0\n",
    "\n",
    "for k in range(1, V+1):\n",
    "    for i in range(1, V+1):\n",
    "        for j in range(1, V+1):\n",
    "            dist[i][j] = min(dist[i][j], dist[i][k]+dist[k][j])\n",
    "\n",
    "result = INF\n",
    "for i in range(1, V+1):\n",
    "    for j in range(1, V+1):\n",
    "        if i != j:\n",
    "            result= min(dist[i][j]+dist[j][i], result)\n",
    "if result >= INF:\n",
    "    print(-1)\n",
    "else:\n",
    "    print(result)\n"
   ]
  }
 ],
 "metadata": {
  "kernelspec": {
   "display_name": "Python 3",
   "language": "python",
   "name": "python3"
  },
  "language_info": {
   "codemirror_mode": {
    "name": "ipython",
    "version": 3
   },
   "file_extension": ".py",
   "mimetype": "text/x-python",
   "name": "python",
   "nbconvert_exporter": "python",
   "pygments_lexer": "ipython3",
   "version": "3.8.11"
  }
 },
 "nbformat": 4,
 "nbformat_minor": 5
}
