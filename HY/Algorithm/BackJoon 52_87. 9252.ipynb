{
 "cells": [
  {
   "cell_type": "code",
   "execution_count": null,
   "id": "09650f43",
   "metadata": {},
   "outputs": [],
   "source": [
    "str_1 = input()\n",
    "str_2 = input()\n",
    "LIS = [[ \"\" for _ in range(len(str_2) + 1)] for _ in range(len(str_1) + 1)]\n",
    "for i in range(1, len(str_1) +1):\n",
    "    for j in range(1, len(str_2) + 1):\n",
    "        if str_1[i-1] == str_2[j-1]:\n",
    "            LIS[i][j] = LIS[i-1][j-1] + str_1[i-1]\n",
    "        else:\n",
    "            LIS[i][j] = LIS[i][j-1] if len(LIS[i][j-1]) >= len(LIS[i-1][j]) else LIS[i-1][j]\n",
    "\n",
    "print(len(LIS[-1][-1]))\n",
    "print(LIS[-1][-1])"
   ]
  }
 ],
 "metadata": {
  "kernelspec": {
   "display_name": "Python 3 (ipykernel)",
   "language": "python",
   "name": "python3"
  },
  "language_info": {
   "codemirror_mode": {
    "name": "ipython",
    "version": 3
   },
   "file_extension": ".py",
   "mimetype": "text/x-python",
   "name": "python",
   "nbconvert_exporter": "python",
   "pygments_lexer": "ipython3",
   "version": "3.9.12"
  }
 },
 "nbformat": 4,
 "nbformat_minor": 5
}
