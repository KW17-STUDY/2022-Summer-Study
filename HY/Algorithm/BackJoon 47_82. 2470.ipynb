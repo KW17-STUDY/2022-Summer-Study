{
 "cells": [
  {
   "cell_type": "code",
   "execution_count": 2,
   "id": "dbad8487",
   "metadata": {},
   "outputs": [
    {
     "name": "stdout",
     "output_type": "stream",
     "text": [
      "10000000000.0\n"
     ]
    }
   ],
   "source": [
    "N = int(input())\n",
    "\n",
    "arr = list(map(int, input().split()))\n",
    "\n",
    "arr.sort()\n",
    "\n",
    "i = 0\n",
    "j = N-1\n",
    "\n",
    "result = [0, 0]\n",
    "Sum = 2000000001\n",
    "\n",
    "while i < j:\n",
    "    temp = arr[i] + arr[j]\n",
    "    if abs(temp) < abs(Sum):\n",
    "        result = [i, j]\n",
    "        Sum = arr[i] + arr[j]\n",
    "    else:\n",
    "        if temp > 0:\n",
    "            j -=1\n",
    "        elif temp < 0:\n",
    "            i += 1\n",
    "        else:\n",
    "            break\n",
    "\n",
    "print(arr[result[0]], arr[result[1]])\n"
   ]
  },
  {
   "cell_type": "code",
   "execution_count": null,
   "id": "5319d62b",
   "metadata": {},
   "outputs": [],
   "source": []
  }
 ],
 "metadata": {
  "kernelspec": {
   "display_name": "Python 3",
   "language": "python",
   "name": "python3"
  },
  "language_info": {
   "codemirror_mode": {
    "name": "ipython",
    "version": 3
   },
   "file_extension": ".py",
   "mimetype": "text/x-python",
   "name": "python",
   "nbconvert_exporter": "python",
   "pygments_lexer": "ipython3",
   "version": "3.8.11"
  }
 },
 "nbformat": 4,
 "nbformat_minor": 5
}
