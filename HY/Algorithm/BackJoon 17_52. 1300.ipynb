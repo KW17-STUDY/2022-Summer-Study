{
 "cells": [
  {
   "cell_type": "code",
   "execution_count": 18,
   "id": "53b3bc52",
   "metadata": {},
   "outputs": [
    {
     "name": "stdout",
     "output_type": "stream",
     "text": [
      "3\n",
      "7\n",
      "1 5 9\n",
      "cnt: 6\n",
      "6 7 9\n",
      "cnt: 8\n",
      "6 6 6\n",
      "cnt: 8\n",
      "6\n"
     ]
    }
   ],
   "source": [
    "n = int(input())\n",
    "k = int(input())\n",
    "\n",
    "def binary_search(target, start, end):\n",
    "    while(start <= end):\n",
    "       \n",
    "        mid = (start + end) // 2\n",
    "        cnt = 0\n",
    "        for i in range(1, n+1):\n",
    "            cnt += min(mid//i, n)\n",
    "        if cnt >= target:\n",
    "            end = mid-1\n",
    "        else:\n",
    "            start = mid+1\n",
    "    return start\n",
    "\n",
    "\n",
    "print(binary_search(k,1,n*n))"
   ]
  },
  {
   "cell_type": "markdown",
   "id": "6d291f47",
   "metadata": {},
   "source": [
    "https://hongcoding.tistory.com/13"
   ]
  },
  {
   "cell_type": "code",
   "execution_count": 15,
   "id": "190839b0",
   "metadata": {},
   "outputs": [
    {
     "name": "stdout",
     "output_type": "stream",
     "text": [
      "3\n",
      "7\n",
      "6\n"
     ]
    }
   ],
   "source": [
    "N = int(input())\n",
    "K = int(input())\n",
    "arr = [[0 for _ in range(N)] for _ in range(N)]\n",
    "result = [0]\n",
    "def binary_search(num):\n",
    "    left = 0\n",
    "    right = len(result)-1\n",
    "    while left <= right:\n",
    "        mid = (left+right) // 2\n",
    "        if result[mid] >= num:\n",
    "            right = mid -1\n",
    "        else:\n",
    "            left = mid + 1\n",
    "        \n",
    "    return left\n",
    "\n",
    "\n",
    "for i in range(1, N+1):\n",
    "    for j in range(1, N+1):\n",
    "        temp = i*j\n",
    "        if len(result) > K+1:\n",
    "            if result[-1] > temp:\n",
    "                result.insert(binary_search(temp), temp)\n",
    "                result.pop()\n",
    "        else:\n",
    "            if result[-1] <= temp:\n",
    "                result.append(temp)\n",
    "            else:\n",
    "                result.insert(binary_search(temp), temp)\n",
    "            \n",
    "print(result[K])\n"
   ]
  },
  {
   "cell_type": "code",
   "execution_count": null,
   "id": "9fc07ef5",
   "metadata": {},
   "outputs": [],
   "source": [
    "N = int(input())\n",
    "arr = [[0 for _ in range(N)] for _ in range(N)]\n",
    "result = [0]\n",
    "def binary_search(num):\n",
    "    left = 0\n",
    "    right = len(result)-1\n",
    "    while left <= right:\n",
    "        mid = (left+right) // 2\n",
    "        if result[mid] == num:\n",
    "            return mid-1\n",
    "        elif result[mid] > num:\n",
    "            right = mid -1\n",
    "        else:\n",
    "            left = mid + 1\n",
    "    \n",
    "    return left\n",
    "\n",
    "\n",
    "for i in range(1, N+1):\n",
    "    for j in range(1, N+1):\n",
    "        temp = i*j\n",
    "        \n",
    "        print(\"temp\", temp, \"result\", result)\n",
    "        if result[-1] <= temp:\n",
    "            result.append(temp)\n",
    "        else:\n",
    "            a = binary_search(temp)\n",
    "            print(a)\n",
    "            result.insert(a, temp)\n",
    "            \n",
    "\n"
   ]
  },
  {
   "cell_type": "code",
   "execution_count": null,
   "id": "b235a23f",
   "metadata": {},
   "outputs": [],
   "source": []
  }
 ],
 "metadata": {
  "kernelspec": {
   "display_name": "Python 3",
   "language": "python",
   "name": "python3"
  },
  "language_info": {
   "codemirror_mode": {
    "name": "ipython",
    "version": 3
   },
   "file_extension": ".py",
   "mimetype": "text/x-python",
   "name": "python",
   "nbconvert_exporter": "python",
   "pygments_lexer": "ipython3",
   "version": "3.8.11"
  }
 },
 "nbformat": 4,
 "nbformat_minor": 5
}
