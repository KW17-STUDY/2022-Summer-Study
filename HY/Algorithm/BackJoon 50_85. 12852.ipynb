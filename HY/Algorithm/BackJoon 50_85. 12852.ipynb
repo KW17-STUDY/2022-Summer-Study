{
 "cells": [
  {
   "cell_type": "code",
   "execution_count": 5,
   "id": "7c598ef4",
   "metadata": {},
   "outputs": [
    {
     "name": "stdout",
     "output_type": "stream",
     "text": [
      "abc 3\n"
     ]
    }
   ],
   "source": [
    "from collections import deque \n",
    "\n",
    "N = int(input())\n",
    "\n",
    "List = deque()\n",
    "check = [False for _ in range(N+1)]\n",
    "List.append((N,0, str(N)))\n",
    "result = 0\n",
    "log = \"\"\n",
    "while List:\n",
    "    n, t, st = List.popleft()\n",
    "    if n == 1:\n",
    "        result = t\n",
    "        log = st\n",
    "        break\n",
    "    if n % 3 == 0 and check[n//3] == False:\n",
    "        temp = st + \" \" +str(n//3)\n",
    "        List.append((n//3, t+1, temp))\n",
    "        check[n//3] = True\n",
    "    if n % 2 == 0 and check[n//2] == False: \n",
    "        temp = st + \" \" +str(n//2)\n",
    "        List.append((n//2, t+1, temp))\n",
    "        check[n//2] = True\n",
    "    if check[n-1] == False:\n",
    "        temp = st + \" \" +str(n-1)\n",
    "        List.append((n-1, t+1, temp))\n",
    "        check[n-1] = True\n",
    "\n",
    "\n",
    "print(result)\n",
    "print(log)"
   ]
  },
  {
   "cell_type": "code",
   "execution_count": null,
   "id": "1be2de3c",
   "metadata": {},
   "outputs": [],
   "source": []
  }
 ],
 "metadata": {
  "kernelspec": {
   "display_name": "Python 3",
   "language": "python",
   "name": "python3"
  },
  "language_info": {
   "codemirror_mode": {
    "name": "ipython",
    "version": 3
   },
   "file_extension": ".py",
   "mimetype": "text/x-python",
   "name": "python",
   "nbconvert_exporter": "python",
   "pygments_lexer": "ipython3",
   "version": "3.8.11"
  }
 },
 "nbformat": 4,
 "nbformat_minor": 5
}
