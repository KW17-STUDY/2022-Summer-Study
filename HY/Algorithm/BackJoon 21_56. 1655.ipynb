{
 "cells": [
  {
   "cell_type": "code",
   "execution_count": null,
   "id": "45c85d37",
   "metadata": {},
   "outputs": [],
   "source": [
    "import heapq\n",
    "import sys\n",
    "input = sys.stdin.readline\n",
    "N = int(input())\n",
    "\n",
    "maxheap = []\n",
    "meanheap = []\n",
    "\n",
    "for _ in range(N):\n",
    "    temp = int(input())\n",
    "    if len(meanheap) == len(maxheap):\n",
    "        heapq.heappush(maxheap, -temp)\n",
    "    else:\n",
    "        heapq.heappush(meanheap, temp)\n",
    "        \n",
    "    if meanheap and -maxheap[0] > meanheap[0]:\n",
    "        smaller = -heapq.heappop(maxheap)\n",
    "        bigger = heapq.heappop(meanheap)\n",
    "        \n",
    "        heapq.heappush(meanheap,smaller)\n",
    "        heapq.heappush(maxheap, -bigger)\n",
    "    print(-maxheap[0])"
   ]
  },
  {
   "cell_type": "code",
   "execution_count": null,
   "id": "0e494cd3",
   "metadata": {},
   "outputs": [],
   "source": [
    "import heapq\n",
    "import sys\n",
    "input = sys.stdin.readline\n",
    "\n",
    "N = int(input())\n",
    "arr = []\n",
    "result = []\n",
    "#min_val =-10001\n",
    "#heapq.heappush(arr, min_val)\n",
    "for i in range(N):\n",
    "    temp = int(input())\n",
    "    heapq.heappush(arr, temp)\n",
    "    idx = i // 2\n",
    "    result.append(heapq.heappop(arr))\n",
    "    \n",
    "for i in result:\n",
    "    print(i)"
   ]
  },
  {
   "cell_type": "code",
   "execution_count": 2,
   "id": "fffa2a81",
   "metadata": {},
   "outputs": [
    {
     "name": "stdout",
     "output_type": "stream",
     "text": [
      "0\n",
      "0\n",
      "1\n",
      "1\n",
      "2\n",
      "2\n"
     ]
    }
   ],
   "source": [
    "for i in range(0, 6):\n",
    "    print(i//2)"
   ]
  },
  {
   "cell_type": "code",
   "execution_count": null,
   "id": "27877b77",
   "metadata": {},
   "outputs": [],
   "source": []
  }
 ],
 "metadata": {
  "kernelspec": {
   "display_name": "Python 3",
   "language": "python",
   "name": "python3"
  },
  "language_info": {
   "codemirror_mode": {
    "name": "ipython",
    "version": 3
   },
   "file_extension": ".py",
   "mimetype": "text/x-python",
   "name": "python",
   "nbconvert_exporter": "python",
   "pygments_lexer": "ipython3",
   "version": "3.8.11"
  }
 },
 "nbformat": 4,
 "nbformat_minor": 5
}
