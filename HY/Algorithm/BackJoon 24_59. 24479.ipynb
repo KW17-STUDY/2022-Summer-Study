{
 "cells": [
  {
   "cell_type": "markdown",
   "id": "2c5b2f17",
   "metadata": {},
   "source": [
    "https://itholic.github.io/python-bfs-dfs/"
   ]
  },
  {
   "cell_type": "code",
   "execution_count": null,
   "id": "73f6f4e9",
   "metadata": {},
   "outputs": [],
   "source": [
    "# 이게 맞는 코드\n",
    "\n",
    "import sys \n",
    "input = sys.stdin.readline\n",
    "from collections import defaultdict\n",
    "N, M, R = list(map(int, input().split()))\n",
    "arr = defaultdict(list)\n",
    "\n",
    "for _ in range(M):\n",
    "    u, v = list(map(int, input().split()))\n",
    "    arr[u] += [v]\n",
    "    arr[v] += [u]\n",
    "    \n",
    "for i in arr:\n",
    "    arr[i].sort(reverse = True)\n",
    "    \n",
    "visited = [False for _ in range (N+1)]\n",
    "\n",
    "def dfs(graph, start_node):\n",
    "    stack = list()\n",
    "    result = [0 for _ in range(N+1)]\n",
    "    stack.append(start_node)\n",
    "    cnt = 1\n",
    "    while stack:\n",
    "        node = stack.pop()\n",
    "        \n",
    "        if visited[node] == False:\n",
    "            result[node] = cnt\n",
    "            cnt += 1\n",
    "            visited[node] = True\n",
    "            stack.extend(graph[node])\n",
    "            \n",
    "    return result\n",
    "            \n",
    "            \n",
    "\n",
    "for i in dfs(arr, R)[1:]:\n",
    "    print(i)"
   ]
  },
  {
   "cell_type": "code",
   "execution_count": 14,
   "id": "6588f784",
   "metadata": {},
   "outputs": [
    {
     "name": "stdout",
     "output_type": "stream",
     "text": [
      "5 5 1\n",
      "1\n"
     ]
    },
    {
     "ename": "ValueError",
     "evalue": "not enough values to unpack (expected 2, got 1)",
     "output_type": "error",
     "traceback": [
      "\u001b[1;31m---------------------------------------------------------------------------\u001b[0m",
      "\u001b[1;31mValueError\u001b[0m                                Traceback (most recent call last)",
      "\u001b[1;32m<ipython-input-14-8863b195339c>\u001b[0m in \u001b[0;36m<module>\u001b[1;34m\u001b[0m\n\u001b[0;32m      4\u001b[0m \u001b[1;33m\u001b[0m\u001b[0m\n\u001b[0;32m      5\u001b[0m \u001b[1;32mfor\u001b[0m \u001b[0m_\u001b[0m \u001b[1;32min\u001b[0m \u001b[0mrange\u001b[0m\u001b[1;33m(\u001b[0m\u001b[0mM\u001b[0m\u001b[1;33m)\u001b[0m\u001b[1;33m:\u001b[0m\u001b[1;33m\u001b[0m\u001b[1;33m\u001b[0m\u001b[0m\n\u001b[1;32m----> 6\u001b[1;33m     \u001b[0mu\u001b[0m\u001b[1;33m,\u001b[0m \u001b[0mv\u001b[0m \u001b[1;33m=\u001b[0m \u001b[0mlist\u001b[0m\u001b[1;33m(\u001b[0m\u001b[0mmap\u001b[0m\u001b[1;33m(\u001b[0m\u001b[0mint\u001b[0m\u001b[1;33m,\u001b[0m \u001b[0minput\u001b[0m\u001b[1;33m(\u001b[0m\u001b[1;33m)\u001b[0m\u001b[1;33m.\u001b[0m\u001b[0msplit\u001b[0m\u001b[1;33m(\u001b[0m\u001b[1;33m)\u001b[0m\u001b[1;33m)\u001b[0m\u001b[1;33m)\u001b[0m\u001b[1;33m\u001b[0m\u001b[1;33m\u001b[0m\u001b[0m\n\u001b[0m\u001b[0;32m      7\u001b[0m     \u001b[0marr\u001b[0m\u001b[1;33m[\u001b[0m\u001b[0mu\u001b[0m\u001b[1;33m]\u001b[0m \u001b[1;33m+=\u001b[0m \u001b[1;33m[\u001b[0m\u001b[0mv\u001b[0m\u001b[1;33m]\u001b[0m\u001b[1;33m\u001b[0m\u001b[1;33m\u001b[0m\u001b[0m\n\u001b[0;32m      8\u001b[0m \u001b[1;33m\u001b[0m\u001b[0m\n",
      "\u001b[1;31mValueError\u001b[0m: not enough values to unpack (expected 2, got 1)"
     ]
    }
   ],
   "source": [
    "import sys\n",
    "from collections import defaultdict\n",
    "sys.setrecursionlimit(10**9)\n",
    "input = sys.stdin.readline\n",
    "N, M, R = list(map(int, input().split()))\n",
    "arr = defaultdict(list)\n",
    "\n",
    "for _ in range(M):\n",
    "    u, v = list(map(int, input().split()))\n",
    "    arr[u] += [v]\n",
    "    arr[v] += [u]\n",
    "    \n",
    "for i in arr:\n",
    "    arr[i].sort()\n",
    "    \n",
    "visited = [False for _ in range (N)]\n",
    "def dfs(u):\n",
    "    print(u)\n",
    "    visited[u] = True\n",
    "    for i in arr[u]:\n",
    "        if visited[i] == False:\n",
    "            dfs(i)\n",
    "    return\n",
    "            \n",
    "dfs(R)\n",
    "print(0)\n",
    "    "
   ]
  },
  {
   "cell_type": "code",
   "execution_count": 4,
   "id": "30eb95c4",
   "metadata": {},
   "outputs": [
    {
     "name": "stdout",
     "output_type": "stream",
     "text": [
      "defaultdict(<class 'list'>, {3: [1, 2]})\n"
     ]
    }
   ],
   "source": [
    "import sys\n",
    "from collections import defaultdict\n",
    "sys.setrecursionlimit(10**9)\n",
    "input = sys.stdin.readline\n",
    "N, M, R = list(map(int, input().split()))\n",
    "arr = defaultdict(list)\n",
    "path = []\n",
    "result = [0 for _ in range(N+1)]\n",
    "\n",
    "for _ in range(M):\n",
    "    u, v = list(map(int, input().split()))\n",
    "    arr[u] += [v]\n",
    "    arr[v] += [u]\n",
    "    \n",
    "for i in arr:\n",
    "    arr[i].sort()\n",
    "    \n",
    "visited = [False for _ in range (N+1)]\n",
    "def dfs(u):\n",
    "    path.append(u)\n",
    "    visited[u] = True\n",
    "    for i in arr[u]:\n",
    "        if visited[i] == False:\n",
    "            dfs(i)\n",
    "    return\n",
    "            \n",
    "dfs(R)\n",
    "for idx, node in zip(range(1, len(path)+1), path):\n",
    "    result[node] = idx\n",
    "    \n",
    "print(*result[1:], sep=\"\\n\")\n",
    "    "
   ]
  },
  {
   "cell_type": "code",
   "execution_count": null,
   "id": "5c05e4e7",
   "metadata": {},
   "outputs": [],
   "source": []
  }
 ],
 "metadata": {
  "kernelspec": {
   "display_name": "Python 3",
   "language": "python",
   "name": "python3"
  },
  "language_info": {
   "codemirror_mode": {
    "name": "ipython",
    "version": 3
   },
   "file_extension": ".py",
   "mimetype": "text/x-python",
   "name": "python",
   "nbconvert_exporter": "python",
   "pygments_lexer": "ipython3",
   "version": "3.8.11"
  }
 },
 "nbformat": 4,
 "nbformat_minor": 5
}
