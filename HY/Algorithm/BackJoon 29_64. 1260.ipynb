{
 "cells": [
  {
   "cell_type": "code",
   "execution_count": null,
   "id": "1bbded42",
   "metadata": {},
   "outputs": [],
   "source": [
    "import sys\n",
    "from collections import deque \n",
    "from collections import defaultdict \n",
    "input = sys.stdin.readline\n",
    "\n",
    "N, M, V = map(int, input().split())\n",
    "Map = defaultdict(list)\n",
    "for _ in range(M):\n",
    "    u, v = map(int, input().split())\n",
    "    Map[u] += [v]\n",
    "    Map[v] += [u]\n",
    "    \n",
    "def DFS(Map, start_node):\n",
    "    global N\n",
    "    visited = [False for _ in range(N+1)]\n",
    "    stack = [start_node]\n",
    "    result = []\n",
    "    while stack:\n",
    "        node = stack.pop()\n",
    "        if visited[node] == False:\n",
    "            visited[node] = True\n",
    "            result.append(node)\n",
    "            stack.extend(Map[node])\n",
    "            \n",
    "    return result\n",
    "    \n",
    "    \n",
    "    \n",
    "    \n",
    "def BFS(Map, start_node):\n",
    "    global N\n",
    "    visited = [False for _ in range(N+1)]\n",
    "    queue = deque()\n",
    "    result = []\n",
    "    \n",
    "    while queue:\n",
    "        node = queue.popleft()\n",
    "        if visited[node] == False:\n",
    "            visited[node] = True\n",
    "            result.append(node)\n",
    "            queue.extend(Map[node])\n",
    "            \n",
    "            \n",
    "    return result\n",
    "\n",
    "for i in Map:\n",
    "    Map[i].sort(reverse = True)\n",
    "\n",
    "for i in DFS(Map, V):\n",
    "    print(i, end = \" \")\n",
    "print(\"\")\n",
    "for j in BFS(Map, V):\n",
    "    print(j, end = \" \")"
   ]
  }
 ],
 "metadata": {
  "kernelspec": {
   "display_name": "Python 3",
   "language": "python",
   "name": "python3"
  },
  "language_info": {
   "codemirror_mode": {
    "name": "ipython",
    "version": 3
   },
   "file_extension": ".py",
   "mimetype": "text/x-python",
   "name": "python",
   "nbconvert_exporter": "python",
   "pygments_lexer": "ipython3",
   "version": "3.8.11"
  }
 },
 "nbformat": 4,
 "nbformat_minor": 5
}
