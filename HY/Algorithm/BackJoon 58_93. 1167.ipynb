{
 "cells": [
  {
   "cell_type": "markdown",
   "id": "6be1d4ce",
   "metadata": {},
   "source": [
    "https://jioneprogstdy.tistory.com/77\n",
    "시간 제한 안뜨려면 저렇게 해야함"
   ]
  },
  {
   "cell_type": "code",
   "execution_count": null,
   "id": "94f5945b",
   "metadata": {},
   "outputs": [],
   "source": [
    "import sys\n",
    "\n",
    "input = sys.stdin.readline\n",
    "\n",
    "N = int(input())\n",
    "\n",
    "Map = [{} for _ in range(N+1)]\n",
    "\n",
    "for _ in range(N):\n",
    "    temp = list(map(int, input().split()))\n",
    "    j = 1\n",
    "    while temp[j] != -1:\n",
    "        Map[temp[0]][temp[j]] = temp[j+1]\n",
    "        j += 2\n",
    "\n",
    "def dfs(Map, start):\n",
    "    stack = []\n",
    "\n",
    "    stack.append((start, 0))\n",
    "    ST = [0 for _ in range(N+1)]\n",
    "\n",
    "    visited = [False for _ in range(N+1)]\n",
    "    visited[0] = True\n",
    "    visited[start] = True\n",
    "    while stack:\n",
    "        cur, dist = stack.pop()\n",
    "        visited[cur] = True\n",
    "        for next_dest, temp_dist in Map[cur].items():\n",
    "            if not visited[next_dest]:\n",
    "                next_dist = temp_dist + dist\n",
    "                stack.append((next_dest, next_dist))\n",
    "                \n",
    "                ST[next_dest] = next_dist\n",
    "\n",
    "    temp = max(ST)\n",
    "    return (ST.index(temp), temp)\n",
    "\n",
    "idx2, _ = dfs(Map, 1)\n",
    "_, result = dfs(Map, idx2)\n",
    "\n",
    "print(result)"
   ]
  }
 ],
 "metadata": {
  "kernelspec": {
   "display_name": "Python 3 (ipykernel)",
   "language": "python",
   "name": "python3"
  },
  "language_info": {
   "codemirror_mode": {
    "name": "ipython",
    "version": 3
   },
   "file_extension": ".py",
   "mimetype": "text/x-python",
   "name": "python",
   "nbconvert_exporter": "python",
   "pygments_lexer": "ipython3",
   "version": "3.9.12"
  }
 },
 "nbformat": 4,
 "nbformat_minor": 5
}
