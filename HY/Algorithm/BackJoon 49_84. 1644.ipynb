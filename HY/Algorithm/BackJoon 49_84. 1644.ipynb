{
 "cells": [
  {
   "cell_type": "code",
   "execution_count": null,
   "id": "d28cb58a",
   "metadata": {},
   "outputs": [],
   "source": [
    "N = int(input())\n",
    "\n",
    "def prime_list(n):\n",
    "    sieve = [True] * n\n",
    "\n",
    "    m = int(n**0.5)\n",
    "    for i in range(2, m+1):\n",
    "        if sieve[i] == True:\n",
    "            for j in range(i+i, n, i):\n",
    "                sieve[j] = False\n",
    "\n",
    "    return [i for i in range(2, n) if sieve[i] == True]\n",
    "\n",
    "sosoo = prime_list(N+1)\n",
    "i = 0\n",
    "j = 0\n",
    "Sum = 0\n",
    "while Sum <= N and j < len(sosoo):\n",
    "    Sum += sosoo[j]\n",
    "    j += 1\n",
    "j-= 1\n",
    "result = 0\n",
    "while i <= j and j < len(sosoo):\n",
    "    if Sum == N:\n",
    "        result += 1\n",
    "        Sum -= sosoo[i]\n",
    "        i += 1\n",
    "        if j+1 >= len(sosoo):\n",
    "            break\n",
    "        j += 1\n",
    "        Sum += sosoo[j]\n",
    "    elif Sum > N:\n",
    "        Sum -= sosoo[j]\n",
    "        j -= 1\n",
    "    else:\n",
    "        Sum -= sosoo[i]\n",
    "        i += 1\n",
    "        if j+1 >= len(sosoo):\n",
    "            break\n",
    "        j += 1\n",
    "        Sum += sosoo[j]\n",
    "\n",
    "print(result)"
   ]
  }
 ],
 "metadata": {
  "kernelspec": {
   "display_name": "Python 3",
   "language": "python",
   "name": "python3"
  },
  "language_info": {
   "codemirror_mode": {
    "name": "ipython",
    "version": 3
   },
   "file_extension": ".py",
   "mimetype": "text/x-python",
   "name": "python",
   "nbconvert_exporter": "python",
   "pygments_lexer": "ipython3",
   "version": "3.8.11"
  }
 },
 "nbformat": 4,
 "nbformat_minor": 5
}
