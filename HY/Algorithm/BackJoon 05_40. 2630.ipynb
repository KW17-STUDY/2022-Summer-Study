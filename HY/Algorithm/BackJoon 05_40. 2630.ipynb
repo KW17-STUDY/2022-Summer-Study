{
 "cells": [
  {
   "cell_type": "code",
   "execution_count": 6,
   "id": "28c3cabd",
   "metadata": {},
   "outputs": [
    {
     "name": "stdout",
     "output_type": "stream",
     "text": [
      "8\n",
      "1 1 0 0 0 0 1 1\n",
      "1 1 0 0 0 0 1 1\n",
      "0 0 0 0 1 1 0 0\n",
      "0 0 0 0 1 1 0 0\n",
      "1 0 0 0 1 1 1 1\n",
      "0 1 0 0 1 1 1 1\n",
      "0 0 1 1 1 1 1 1\n",
      "0 0 1 1 1 1 1 1\n",
      "112\n",
      "9\n"
     ]
    }
   ],
   "source": [
    "#import sys\n",
    "#input = sys.stdin.readline\n",
    "\n",
    "blue = 0\n",
    "white = 0\n",
    "N = int(input())\n",
    "arr = []\n",
    "for _ in range(N):\n",
    "    arr.append(list(map(int, input().split())))\n",
    "\n",
    "def find(x, y, N):\n",
    "    global blue, white\n",
    "    std = arr[x][y]\n",
    "    for i in range(x, x+N):\n",
    "        for j in range(y, y+N):\n",
    "            if std != arr[i][j]:\n",
    "                find(x, y, N//2)\n",
    "                find(x, y+N//2, N//2)\n",
    "                find(x+N//2, y, N//2)\n",
    "                find(x+N//2, y+N//2, N//2)\n",
    "                return\n",
    "    if std == 0:\n",
    "        white += 1\n",
    "    else:\n",
    "        blue += 1\n",
    "        \n",
    "find(0,0, N)\n",
    "print(white)\n",
    "print(blue)\n",
    "            "
   ]
  },
  {
   "cell_type": "code",
   "execution_count": null,
   "id": "679cff1b",
   "metadata": {},
   "outputs": [],
   "source": [
    "[:-1]"
   ]
  }
 ],
 "metadata": {
  "kernelspec": {
   "display_name": "Python 3",
   "language": "python",
   "name": "python3"
  },
  "language_info": {
   "codemirror_mode": {
    "name": "ipython",
    "version": 3
   },
   "file_extension": ".py",
   "mimetype": "text/x-python",
   "name": "python",
   "nbconvert_exporter": "python",
   "pygments_lexer": "ipython3",
   "version": "3.8.11"
  }
 },
 "nbformat": 4,
 "nbformat_minor": 5
}
