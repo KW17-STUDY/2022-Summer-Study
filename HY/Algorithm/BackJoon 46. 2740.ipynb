{
 "cells": [
  {
   "cell_type": "code",
   "execution_count": 1,
   "id": "5f27eea1",
   "metadata": {},
   "outputs": [
    {
     "ename": "SyntaxError",
     "evalue": "unexpected EOF while parsing (<ipython-input-1-f4430893664f>, line 8)",
     "output_type": "error",
     "traceback": [
      "\u001b[1;36m  File \u001b[1;32m\"<ipython-input-1-f4430893664f>\"\u001b[1;36m, line \u001b[1;32m8\u001b[0m\n\u001b[1;33m    for _ in range(M):\u001b[0m\n\u001b[1;37m                      ^\u001b[0m\n\u001b[1;31mSyntaxError\u001b[0m\u001b[1;31m:\u001b[0m unexpected EOF while parsing\n"
     ]
    }
   ],
   "source": [
    "N, M = map(int, input().split())\n",
    "A = []\n",
    "for _ in range(N):\n",
    "    A.append(list(map(int, input().split())))\n",
    "\n",
    "B = []\n",
    "_, K = map(int, input().split())\n",
    "for _ in range(M):\n",
    "    B.append(list(map(int, input().split())))\n",
    "    \n",
    "def multiply_op(arr_1, arr_2):\n",
    "    result = [[0 for _ in range(K)] for _ in range(N)]\n",
    "    for i in range(N):\n",
    "        for j in range(K):\n",
    "            for k in range(M):\n",
    "                result[i][j] += arr_1[i][k] * arr_2[k][j]\n",
    "    return result\n",
    "\n",
    "\n",
    "Result = multiply_op(A, B)\n",
    "for i in range(len(Result)):\n",
    "    for j in range(len(Result[0])):\n",
    "        print(Result[i][j], end=\" \")\n",
    "    print(\"\")\n"
   ]
  },
  {
   "cell_type": "code",
   "execution_count": null,
   "id": "1662a0ed",
   "metadata": {},
   "outputs": [],
   "source": []
  }
 ],
 "metadata": {
  "kernelspec": {
   "display_name": "Python 3",
   "language": "python",
   "name": "python3"
  },
  "language_info": {
   "codemirror_mode": {
    "name": "ipython",
    "version": 3
   },
   "file_extension": ".py",
   "mimetype": "text/x-python",
   "name": "python",
   "nbconvert_exporter": "python",
   "pygments_lexer": "ipython3",
   "version": "3.8.11"
  }
 },
 "nbformat": 4,
 "nbformat_minor": 5
}
