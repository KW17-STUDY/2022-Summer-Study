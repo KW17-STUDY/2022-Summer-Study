{
 "cells": [
  {
   "cell_type": "code",
   "execution_count": null,
   "id": "88635f9b",
   "metadata": {},
   "outputs": [],
   "source": [
    "import sys\n",
    "input = sys.stdin.readline\n",
    "\n",
    "N = int(input())\n",
    "arr = []\n",
    "for _ in range(N):\n",
    "    arr.append(list(map(int, input()[:-1])))\n",
    "\n",
    "result = []\n",
    "Sum = 0\n",
    "def find(arr, start):\n",
    "    global N\n",
    "    dx = [0, -1, 0, 1]\n",
    "    dy = [-1, 0, 1, 0]\n",
    "    cnt = 0\n",
    "    stack = []\n",
    "    cnt += 1\n",
    "    arr[start[0]][start[1]] = 0\n",
    "    stack.append(start)\n",
    "    \n",
    "    while stack:\n",
    "        x, y = stack.pop()\n",
    "        for i in range(4):\n",
    "            if x+dx[i] < 0 or x+dx[i] > N-1 or y+dy[i] < 0 or y+dy[i] > N-1:\n",
    "                continue\n",
    "            else:\n",
    "                if arr[x+dx[i]][y+dy[i]] == 1:\n",
    "                    cnt += 1\n",
    "                    arr[x+dx[i]][y+dy[i]] = 0\n",
    "                    stack.append((x+dx[i], y+dy[i]))\n",
    "                    \n",
    "    return cnt\n",
    "\n",
    "for i in range(N):\n",
    "    for j in range(N):\n",
    "        if arr[i][j] == 1:\n",
    "            result.append(find(arr, (i, j)))\n",
    "            Sum += 1\n",
    "            \n",
    "print(Sum)\n",
    "result.sort()\n",
    "for i in result:\n",
    "    print(i)"
   ]
  }
 ],
 "metadata": {
  "kernelspec": {
   "display_name": "Python 3",
   "language": "python",
   "name": "python3"
  },
  "language_info": {
   "codemirror_mode": {
    "name": "ipython",
    "version": 3
   },
   "file_extension": ".py",
   "mimetype": "text/x-python",
   "name": "python",
   "nbconvert_exporter": "python",
   "pygments_lexer": "ipython3",
   "version": "3.8.11"
  }
 },
 "nbformat": 4,
 "nbformat_minor": 5
}
