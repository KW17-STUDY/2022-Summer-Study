{
 "cells": [
  {
   "cell_type": "markdown",
   "id": "a1d99b45",
   "metadata": {},
   "source": [
    "어떻게 이분탐색을 적용해야 하나 했다.  \n",
    "예전에 dp로 풀었던 문제여서 dp로 풀어야한다고 생각했는데,   \n",
    "list를 사용해서 마지막 값보다 배열의 값이 크면 해당 값을 append하고\n",
    "마지막 값보다 작다면 이분 탐색을 통해 교체할 수 있는 값을 바꾼다."
   ]
  },
  {
   "cell_type": "code",
   "execution_count": 1,
   "id": "c8f5992e",
   "metadata": {},
   "outputs": [
    {
     "name": "stdout",
     "output_type": "stream",
     "text": [
      "6\n",
      "10 20 10 30 20 50\n",
      "4\n"
     ]
    }
   ],
   "source": [
    "N = int(input())\n",
    "\n",
    "arr = list(map(int, input().split()))\n",
    "stack = [0]\n",
    "def binary_search(left, right, num):\n",
    "    while left <= right:\n",
    "        mid = (left+right) // 2\n",
    "        if stack[mid] >= num:\n",
    "            right = mid -1\n",
    "        else:\n",
    "            left = mid + 1\n",
    "        \n",
    "    return left\n",
    "\n",
    "\n",
    "for i in arr:\n",
    "    if stack[-1] < i:\n",
    "        stack.append(i)\n",
    "    else:\n",
    "        stack[binary_search(0, len(stack)-1, i)] = i\n",
    "        \n",
    "print(len(stack)-1)"
   ]
  },
  {
   "cell_type": "code",
   "execution_count": null,
   "id": "cb88d7db",
   "metadata": {},
   "outputs": [],
   "source": []
  }
 ],
 "metadata": {
  "kernelspec": {
   "display_name": "Python 3",
   "language": "python",
   "name": "python3"
  },
  "language_info": {
   "codemirror_mode": {
    "name": "ipython",
    "version": 3
   },
   "file_extension": ".py",
   "mimetype": "text/x-python",
   "name": "python",
   "nbconvert_exporter": "python",
   "pygments_lexer": "ipython3",
   "version": "3.8.11"
  }
 },
 "nbformat": 4,
 "nbformat_minor": 5
}
