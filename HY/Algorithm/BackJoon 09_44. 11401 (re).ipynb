{
 "cells": [
  {
   "cell_type": "markdown",
   "id": "049a1611",
   "metadata": {},
   "source": [
    "위에 코드가 처음에 작성한 코드이다. 처음에는 메모리 문제가 뜨길래 필요한 팩토리얼 값만 저장하는 식으로 바꾸었다.  \n",
    "하지만 결과를 계산하는데 있어 계속 시간초과가 떴는데 다음과 같이 나눗셈으로 계산하면 그러는듯 하다\n",
    "https://rhdtka21.tistory.com/123\n",
    "여길 참고 하자. "
   ]
  },
  {
   "cell_type": "code",
   "execution_count": 4,
   "id": "3a722490",
   "metadata": {},
   "outputs": [
    {
     "name": "stdout",
     "output_type": "stream",
     "text": [
      "5 2\n",
      "10\n"
     ]
    }
   ],
   "source": [
    "N, K = map(int, input().split())\n",
    "num = 1000000007\n",
    "\n",
    "factorial = [0, 0, 0]\n",
    "temp = 1\n",
    "for i in range(2, N+1):\n",
    "    temp = (temp*i)%num\n",
    "    if i == N:\n",
    "        factorial[0] = temp\n",
    "    elif i == K:\n",
    "        factorial[1] = temp\n",
    "    elif i == N-K:\n",
    "        factorial[2] = temp\n",
    "\n",
    "    \n",
    "    \n",
    "result = ((factorial[0])/(factorial[1]*factorial[2])%num)%num\n",
    "\n",
    "print(int(result))"
   ]
  },
  {
   "cell_type": "code",
   "execution_count": 7,
   "id": "652da654",
   "metadata": {},
   "outputs": [
    {
     "name": "stdout",
     "output_type": "stream",
     "text": [
      "1 0\n",
      "0\n"
     ]
    }
   ],
   "source": [
    "N, K = map(int, input().split())\n",
    "num = 1000000007\n",
    "\n",
    "factorial = [0, 0, 0]\n",
    "temp = 1\n",
    "for i in range(2, N+1):\n",
    "    temp = temp*i%num\n",
    "    if i == N:\n",
    "        factorial[0] = temp\n",
    "    elif i == K:\n",
    "        factorial[1] = temp\n",
    "    elif i == N-K:\n",
    "        factorial[2] = temp\n",
    "\n",
    "def power(a, b):\n",
    "    global num\n",
    "    if b == 0:\n",
    "        return 1\n",
    "    if b % 2:   #홀수이면\n",
    "        return (power(a, b//2) ** 2 * a) % num\n",
    "    else:\n",
    "        return (power(a, b//2) ** 2) % num\n",
    "A = factorial[0]\n",
    "B =( factorial[2]*factorial[1]) % num\n",
    "    \n",
    "print(((factorial[0]%num)*power((factorial[1]*factorial[2])%num, num-2)%num)%num)\n"
   ]
  },
  {
   "cell_type": "code",
   "execution_count": null,
   "id": "d2931897",
   "metadata": {},
   "outputs": [],
   "source": []
  }
 ],
 "metadata": {
  "kernelspec": {
   "display_name": "Python 3",
   "language": "python",
   "name": "python3"
  },
  "language_info": {
   "codemirror_mode": {
    "name": "ipython",
    "version": 3
   },
   "file_extension": ".py",
   "mimetype": "text/x-python",
   "name": "python",
   "nbconvert_exporter": "python",
   "pygments_lexer": "ipython3",
   "version": "3.8.11"
  }
 },
 "nbformat": 4,
 "nbformat_minor": 5
}
