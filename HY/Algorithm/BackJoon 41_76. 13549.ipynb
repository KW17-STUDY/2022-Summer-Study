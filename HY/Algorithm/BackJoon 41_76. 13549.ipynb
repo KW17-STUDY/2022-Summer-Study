{
 "cells": [
  {
   "cell_type": "markdown",
   "id": "84931c0d",
   "metadata": {},
   "source": [
    "이번 문제는 저번에 DFS로 풀었던 문제에서 조건이 살짝 바뀐 문제였다.  \n",
    "저번과 같이 DFS로 풀이하게 되면 문제가 생기는데, 정답을 찾는 조건은\n",
    "가장 작은 시간이어야 하는데, 해당 문제에서 2xL 을 할 때는 시간이 소모되지 않으므로  \n",
    "DFS 알고리즘을 쓰게 되면 정답은 T여도 T+1 혹은 그 이상의 시간에서 정답을 찾을 가능성이 있다.  \n",
    "따라서 priorityheap 을 사용하는 다익스트라 알고리즘 통해서 해결해야한다.  \n",
    "\n",
    "하지만 첫번째 시도에서는 시간초과로 틀리게 되었는데, 이전 문제와 달리  \n",
    "내가 방문한 지역을 관리 안해주어서 시간 초과가 발생했다.   \n",
    "해당 부분을 예외 처리 해주니 문제가 풀리게 되었다."
   ]
  },
  {
   "cell_type": "code",
   "execution_count": null,
   "id": "e263ce36",
   "metadata": {},
   "outputs": [],
   "source": [
    "import heapq\n",
    "import sys\n",
    "\n",
    "\n",
    "N, K = map(int, input().split())\n",
    "\n",
    "queue = []\n",
    "\n",
    "heapq.heappush(queue, (0, N))\n",
    "result = 0\n",
    "Map = [0 for _ in range(100001)]\n",
    "while queue:\n",
    "    T, L = heapq.heappop(queue)\n",
    "\n",
    "    Map[L] = T+1\n",
    "    if L == K:\n",
    "        result = T\n",
    "        break\n",
    "    elif L < K:\n",
    "        if 2*L <= 100001 and Map[2*L] == 0:\n",
    "            heapq.heappush(queue, (T, 2*L))\n",
    "        if L+1 <= 100001 and Map[L+1] == 0:\n",
    "            heapq.heappush(queue, (T+1, L+1))\n",
    "    if L-1 >= 0 and Map[L-1] == 0:\n",
    "        heapq.heappush(queue, (T+1, L-1))\n",
    "\n",
    "print(result)"
   ]
  }
 ],
 "metadata": {
  "kernelspec": {
   "display_name": "Python 3",
   "language": "python",
   "name": "python3"
  },
  "language_info": {
   "codemirror_mode": {
    "name": "ipython",
    "version": 3
   },
   "file_extension": ".py",
   "mimetype": "text/x-python",
   "name": "python",
   "nbconvert_exporter": "python",
   "pygments_lexer": "ipython3",
   "version": "3.8.11"
  }
 },
 "nbformat": 4,
 "nbformat_minor": 5
}
