{
 "cells": [
  {
   "cell_type": "code",
   "execution_count": null,
   "id": "63d6abd6",
   "metadata": {},
   "outputs": [],
   "source": [
    "import sys\n",
    "input = sys.stdin.readline\n",
    "\n",
    "N = int(input())\n",
    "\n",
    "Map = [[]for _ in range(N+1)]\n",
    "Ptr = [0 for _ in range(N+1)]\n",
    "for _ in range(N-1):\n",
    "    a, b = map(int, input().split())\n",
    "    Map[a].append(b)\n",
    "    Map[b].append(a)\n",
    "\n",
    "stack = []\n",
    "stack.append((0, 1))\n",
    "\n",
    "while stack:\n",
    "    P, node = stack.pop()\n",
    "    Ptr[node] = P\n",
    "    for i in Map[node]:\n",
    "        if i != P:\n",
    "            stack.append((node, i))\n",
    "\n",
    "\n",
    "for i in range(2, N+1):\n",
    "    print(Ptr[i])\n"
   ]
  }
 ],
 "metadata": {
  "kernelspec": {
   "display_name": "Python 3 (ipykernel)",
   "language": "python",
   "name": "python3"
  },
  "language_info": {
   "codemirror_mode": {
    "name": "ipython",
    "version": 3
   },
   "file_extension": ".py",
   "mimetype": "text/x-python",
   "name": "python",
   "nbconvert_exporter": "python",
   "pygments_lexer": "ipython3",
   "version": "3.9.12"
  }
 },
 "nbformat": 4,
 "nbformat_minor": 5
}
