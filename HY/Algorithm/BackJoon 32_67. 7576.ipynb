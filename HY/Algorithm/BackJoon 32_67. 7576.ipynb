{
 "cells": [
  {
   "cell_type": "code",
   "execution_count": null,
   "id": "05dfb58c",
   "metadata": {},
   "outputs": [],
   "source": [
    "import sys \n",
    "from collections import deque \n",
    "input = sys.stdin.readline\n",
    "\n",
    "M, N = map(int, input().split())\n",
    "Map = [list(map(int, input().split())) for _ in range(N)]\n",
    "cnt_0 = 0\n",
    "for i in Map:\n",
    "    cnt_0 += i.count(0)\n",
    "def BFS(Map):\n",
    "    global N, M, cnt_0\n",
    "    queue = deque()\n",
    "    dx = [0, 1, 0, -1]\n",
    "    dy = [-1,0, 1, 0]\n",
    "    result = -1\n",
    "    cnt = 0\n",
    "    for i in range(N):\n",
    "        for j in range(M):\n",
    "            if Map[i][j] == 1:\n",
    "                queue.append((i, j, 0))\n",
    "    while queue:\n",
    "        x, y, t = queue.popleft()\n",
    "        result = max(result, t)\n",
    "        for i in range(4):\n",
    "            if dx[i] + x > N-1 or dx[i] + x <0 or dy[i] + y > M-1 or dy[i] + y <0:\n",
    "                continue\n",
    "            else:\n",
    "                if Map[dx[i]+x][dy[i]+y] == 0:\n",
    "                    cnt += 1\n",
    "                    Map[dx[i]+x][dy[i]+y] = 1\n",
    "                    queue.append((dx[i]+x, dy[i]+y, t+1))\n",
    "    if cnt == cnt_0:\n",
    "        return result         \n",
    "    else:\n",
    "        return -1      \n",
    "    \n",
    "\n",
    "\n",
    "            \n",
    "\n",
    "print(BFS(Map))"
   ]
  },
  {
   "cell_type": "code",
   "execution_count": null,
   "id": "2b3de80d",
   "metadata": {},
   "outputs": [],
   "source": []
  }
 ],
 "metadata": {
  "kernelspec": {
   "display_name": "Python 3",
   "language": "python",
   "name": "python3"
  },
  "language_info": {
   "codemirror_mode": {
    "name": "ipython",
    "version": 3
   },
   "file_extension": ".py",
   "mimetype": "text/x-python",
   "name": "python",
   "nbconvert_exporter": "python",
   "pygments_lexer": "ipython3",
   "version": "3.8.11"
  }
 },
 "nbformat": 4,
 "nbformat_minor": 5
}
