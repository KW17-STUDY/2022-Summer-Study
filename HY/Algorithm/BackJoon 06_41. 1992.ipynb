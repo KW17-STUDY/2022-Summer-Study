{
 "cells": [
  {
   "cell_type": "code",
   "execution_count": 11,
   "id": "be6b2105",
   "metadata": {},
   "outputs": [
    {
     "name": "stdout",
     "output_type": "stream",
     "text": [
      "8\n",
      "11110000\n",
      "11110000\n",
      "00011100\n",
      "00011100\n",
      "11110000\n",
      "11110000\n",
      "11110011\n",
      "11110011\n",
      "[['1', '1', '1', '1', '0', '0', '0', '0'], ['1', '1', '1', '1', '0', '0', '0', '0'], ['0', '0', '0', '1', '1', '1', '0', '0'], ['0', '0', '0', '1', '1', '1', '0', '0'], ['1', '1', '1', '1', '0', '0', '0', '0'], ['1', '1', '1', '1', '0', '0', '0', '0'], ['1', '1', '1', '1', '0', '0', '1', '1'], ['1', '1', '1', '1', '0', '0', '1', '1']]\n",
      "((111(1111))(1111)1(1111))\n"
     ]
    }
   ],
   "source": [
    "import sys\n",
    "input = sys.stdin.readline\n",
    "\n",
    "N = int(input())\n",
    "result = ''\n",
    "Map = []\n",
    "for _ in range(N):\n",
    "    temp = list(input())\n",
    "    Map.append(list(\" \".join(temp).split()))\n",
    "\n",
    "def QuadTree(x, y, num):\n",
    "    global result\n",
    "    std = Map[x][y]\n",
    "    for i in range(num):\n",
    "        for j in range(num):\n",
    "            if Map[x+i][y+j] != std:\n",
    "                result += '('\n",
    "                QuadTree(x, y, num//2)\n",
    "                QuadTree(x, y+ num//2, num//2)\n",
    "                QuadTree(x+ num//2, y, num//2)\n",
    "                QuadTree(x +  num//2, y +  num//2, num//2)\n",
    "                result += ')'\n",
    "                return\n",
    "                \n",
    "    if std == '0':\n",
    "        result += '0'\n",
    "    else:\n",
    "        result += '1'\n",
    "\n",
    "QuadTree(0, 0, N)\n",
    "\n",
    "print(result)\n",
    "    \n",
    "    \n",
    "    \n",
    "\n"
   ]
  },
  {
   "cell_type": "code",
   "execution_count": 1,
   "id": "eb71ce6c",
   "metadata": {},
   "outputs": [
    {
     "name": "stdout",
     "output_type": "stream",
     "text": [
      "123567\n"
     ]
    }
   ],
   "source": []
  },
  {
   "cell_type": "code",
   "execution_count": null,
   "id": "d77543aa",
   "metadata": {},
   "outputs": [],
   "source": []
  }
 ],
 "metadata": {
  "kernelspec": {
   "display_name": "Python 3",
   "language": "python",
   "name": "python3"
  },
  "language_info": {
   "codemirror_mode": {
    "name": "ipython",
    "version": 3
   },
   "file_extension": ".py",
   "mimetype": "text/x-python",
   "name": "python",
   "nbconvert_exporter": "python",
   "pygments_lexer": "ipython3",
   "version": "3.8.11"
  }
 },
 "nbformat": 4,
 "nbformat_minor": 5
}
