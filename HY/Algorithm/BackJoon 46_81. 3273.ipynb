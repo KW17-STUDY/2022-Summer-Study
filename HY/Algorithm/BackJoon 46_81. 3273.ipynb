{
 "cells": [
  {
   "cell_type": "markdown",
   "id": "2b6c0c82",
   "metadata": {},
   "source": [
    "# 투 포인터 알고리즘\n",
    "https://butter-shower.tistory.com/226"
   ]
  },
  {
   "cell_type": "code",
   "execution_count": null,
   "id": "a83bbbaf",
   "metadata": {},
   "outputs": [],
   "source": [
    "N = int(input())\n",
    "\n",
    "arr = list(map(int, input().split()))\n",
    "\n",
    "X = int(input())\n",
    "result = 0\n",
    "i = 0\n",
    "j = N-1\n",
    "\n",
    "arr.sort()\n",
    "\n",
    "while i < j:\n",
    "    temp = arr[i] + arr[j]\n",
    "    if temp == X: \n",
    "        result += 1\n",
    "        i += 1\n",
    "        j -= 1\n",
    "    elif temp < X:\n",
    "        i += 1\n",
    "    elif temp > X:\n",
    "        j -= 1\n",
    "\n",
    "print(result)"
   ]
  }
 ],
 "metadata": {
  "kernelspec": {
   "display_name": "Python 3",
   "language": "python",
   "name": "python3"
  },
  "language_info": {
   "codemirror_mode": {
    "name": "ipython",
    "version": 3
   },
   "file_extension": ".py",
   "mimetype": "text/x-python",
   "name": "python",
   "nbconvert_exporter": "python",
   "pygments_lexer": "ipython3",
   "version": "3.8.11"
  }
 },
 "nbformat": 4,
 "nbformat_minor": 5
}
