{
 "cells": [
  {
   "cell_type": "code",
   "execution_count": null,
   "id": "15e39055",
   "metadata": {},
   "outputs": [],
   "source": [
    "N, S = map(int, input().split())\n",
    "\n",
    "arr = list(map(int, input().split()))\n",
    "\n",
    "i = 0\n",
    "j = 0\n",
    "\n",
    "minlen = N+1\n",
    "Sum = 0\n",
    "while i < N:\n",
    "    if Sum < S and j < N :\n",
    "        Sum += arr[j]\n",
    "        j += 1\n",
    "    elif Sum < S and j == N:\n",
    "        break\n",
    "    elif Sum >= S :\n",
    "        minlen = min(minlen, j - i)\n",
    "        Sum -= arr[i]\n",
    "        i += 1\n",
    "\n",
    "\n",
    "if minlen == N+1:\n",
    "    print(0)\n",
    "else:\n",
    "    print(minlen)"
   ]
  }
 ],
 "metadata": {
  "kernelspec": {
   "display_name": "Python 3",
   "language": "python",
   "name": "python3"
  },
  "language_info": {
   "codemirror_mode": {
    "name": "ipython",
    "version": 3
   },
   "file_extension": ".py",
   "mimetype": "text/x-python",
   "name": "python",
   "nbconvert_exporter": "python",
   "pygments_lexer": "ipython3",
   "version": "3.8.11"
  }
 },
 "nbformat": 4,
 "nbformat_minor": 5
}
