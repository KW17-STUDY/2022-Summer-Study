{
 "cells": [
  {
   "cell_type": "code",
   "execution_count": null,
   "id": "a8a1c776",
   "metadata": {},
   "outputs": [],
   "source": [
    "from collections import deque\n",
    "\n",
    "N, K = map(int, input().split())\n",
    "\n",
    "\n",
    "Map = [False for _ in range(100001)]\n",
    "\n",
    "queue = deque()\n",
    "queue.append((N, 0, \"\"))\n",
    "result = 0\n",
    "while queue:\n",
    "    loc, t, path = queue.popleft()\n",
    "    Map[loc] = True\n",
    "    if loc == K:\n",
    "        path += str(loc)\n",
    "        result = (t, path)\n",
    "        break\n",
    "    temp = path + str(loc) + \" \"\n",
    "\n",
    "    if loc < K:\n",
    "        if 2*loc <= 100001 and Map[2*loc] == False:\n",
    "            queue.append((2*loc, t+1, temp))\n",
    "    \n",
    "        if loc + 1 <= 100001 and not Map[loc+1]:\n",
    "            queue.append((loc+1, t+1, temp))\n",
    "    if loc-1 >=0 and not Map[loc-1]:\n",
    "        queue.append((loc-1, t+1, temp))\n",
    "    \n",
    "print(result[0])\n",
    "print(result[1])"
   ]
  }
 ],
 "metadata": {
  "kernelspec": {
   "display_name": "Python 3 (ipykernel)",
   "language": "python",
   "name": "python3"
  },
  "language_info": {
   "codemirror_mode": {
    "name": "ipython",
    "version": 3
   },
   "file_extension": ".py",
   "mimetype": "text/x-python",
   "name": "python",
   "nbconvert_exporter": "python",
   "pygments_lexer": "ipython3",
   "version": "3.9.12"
  }
 },
 "nbformat": 4,
 "nbformat_minor": 5
}
