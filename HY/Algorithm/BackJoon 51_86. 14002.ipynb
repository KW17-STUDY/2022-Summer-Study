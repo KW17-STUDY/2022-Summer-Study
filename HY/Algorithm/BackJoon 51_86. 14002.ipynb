{
 "cells": [
  {
   "cell_type": "code",
   "execution_count": null,
   "id": "44bbc764",
   "metadata": {},
   "outputs": [],
   "source": [
    "N = int(input())\n",
    "arr = list(map(int, input().split()))\n",
    "\n",
    "LIS = [[1, \"\"] for _ in range(N)]\n",
    "\n",
    "LIS[0][1] = str(arr[0])\n",
    "\n",
    "for i in range(1, N):\n",
    "    selected = i\n",
    "    for prev in range(i):\n",
    "        if arr[i] > arr[prev] and LIS[i][0] < LIS[prev][0] + 1:\n",
    "            LIS[i][0] =  LIS[prev][0] + 1\n",
    "            selected = prev\n",
    "    LIS[i][1] = LIS[selected][1] + \" \" + str(arr[i])\n",
    "\n",
    "\n",
    "length, List = max(LIS)\n",
    "\n",
    "print(length, List, sep=\"\\n\")"
   ]
  }
 ],
 "metadata": {
  "kernelspec": {
   "display_name": "Python 3 (ipykernel)",
   "language": "python",
   "name": "python3"
  },
  "language_info": {
   "codemirror_mode": {
    "name": "ipython",
    "version": 3
   },
   "file_extension": ".py",
   "mimetype": "text/x-python",
   "name": "python",
   "nbconvert_exporter": "python",
   "pygments_lexer": "ipython3",
   "version": "3.9.12"
  }
 },
 "nbformat": 4,
 "nbformat_minor": 5
}
