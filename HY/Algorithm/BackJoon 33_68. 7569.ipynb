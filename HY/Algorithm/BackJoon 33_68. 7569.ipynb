{
 "cells": [
  {
   "cell_type": "code",
   "execution_count": null,
   "id": "251fdd15",
   "metadata": {},
   "outputs": [],
   "source": [
    "import sys\n",
    "from collections import deque\n",
    "\n",
    "input = sys.stdin.readline\n",
    "\n",
    "M, N, H = map(int, input().split())\n",
    "\n",
    "Map = [[] for _ in range(H)]\n",
    "cnt_0 = 0\n",
    "for i in range(H):\n",
    "    for _ in range(N):\n",
    "        Map[i].append(list(map(int, input().split())))\n",
    "        \n",
    "for i in range(H):\n",
    "    for j in range(N):\n",
    "        cnt_0 += Map[i][j].count(0)\n",
    "def BFS(Map):\n",
    "    global M, N, H, cnt_0\n",
    "    queue = deque()\n",
    "    dx = [-1, 0, 1, 0, 0, 0]\n",
    "    dy = [0, 1, 0, -1, 0, 0]\n",
    "    dz = [0, 0, 0, 0, 1, -1]\n",
    "    result = -1\n",
    "    cnt = 0\n",
    "    for i in range(H):\n",
    "        for j in range(N):\n",
    "            for k in range(M):\n",
    "                if Map[i][j][k] == 1:\n",
    "                    queue.append((i,j,k,0))\n",
    "    while queue:\n",
    "        h, x, y, t = queue.popleft()\n",
    "        result = max(result, t)\n",
    "        for i in range(6):\n",
    "            if h + dz[i] > H-1 or h + dz[i] <0 or x + dx[i] > N-1 or x + dx[i] < 0 or y + dy[i] > M-1 or y+ dy[i] < 0:\n",
    "                continue\n",
    "            else:\n",
    "                if Map[h+dz[i]][x+dx[i]][y+dy[i]] == 0:\n",
    "                    queue.append((h+dz[i],x+dx[i], y+dy[i], t+1))\n",
    "                    Map[h+dz[i]][x+dx[i]][y+dy[i]] = 1\n",
    "                    cnt += 1\n",
    "    if cnt == cnt_0:\n",
    "            return result\n",
    "    else:\n",
    "        return -1    \n",
    "    \n",
    "print(BFS(Map))"
   ]
  },
  {
   "cell_type": "code",
   "execution_count": 2,
   "id": "e0920687",
   "metadata": {},
   "outputs": [
    {
     "name": "stdout",
     "output_type": "stream",
     "text": [
      "1 1 1\n",
      "2 2 2\n",
      "3 3 3\n",
      "4 4 4\n",
      "5 5 5\n",
      "6 6 6\n",
      "[[[1, 1, 1], [2, 2, 2]], [[3, 3, 3], [4, 4, 4]], [[5, 5, 5], [6, 6, 6]]]\n"
     ]
    }
   ],
   "source": [
    "Map = [[] for _ in range(3)]\n",
    "for i in range(3):\n",
    "    for _ in range(2):\n",
    "        Map[i].append(list(map(int, input().split())))\n",
    "        \n",
    "print(Map)"
   ]
  },
  {
   "cell_type": "code",
   "execution_count": null,
   "id": "23edcc69",
   "metadata": {},
   "outputs": [],
   "source": []
  }
 ],
 "metadata": {
  "kernelspec": {
   "display_name": "Python 3",
   "language": "python",
   "name": "python3"
  },
  "language_info": {
   "codemirror_mode": {
    "name": "ipython",
    "version": 3
   },
   "file_extension": ".py",
   "mimetype": "text/x-python",
   "name": "python",
   "nbconvert_exporter": "python",
   "pygments_lexer": "ipython3",
   "version": "3.8.11"
  }
 },
 "nbformat": 4,
 "nbformat_minor": 5
}
