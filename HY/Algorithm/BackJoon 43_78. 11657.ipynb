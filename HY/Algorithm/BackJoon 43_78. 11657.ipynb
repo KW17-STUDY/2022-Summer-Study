{
 "cells": [
  {
   "cell_type": "markdown",
   "id": "41dbe09b",
   "metadata": {},
   "source": [
    "# Bellman-Ford Algorithm\n",
    "\n",
    "### 벨만-포드 알고리즘이란?\n",
    "  \n",
    "한 노드에서 다른 노드까지의 최단 거리를 구하는 알고리즘이다.   \n",
    "다익스트라 알고리즘이 모든 가중치가 양수인 경우에만 사용할 수 있는 반면에  \n",
    "벨만 포드 알고리즘은 노드 간의 간선 가중치가 음수인 경우에도 사용할 수 있다.  \n",
    "다만 시간 복잡도는 벨만 포드가 더 크기 때문에 가중치가 모두 양수라면  \n",
    "굳이 벨만 포드를 사용할 필요가 없다.  \n",
    "\n",
    "### 음수 싸이클이 문제가 되는 이유\n",
    "- 단순 음수 간선일 경우 : 단순 경로이므로 그대로 가중치를 계산하면 된다.  \n",
    "- 사이클이 존재하나 양수값이 더 클 경우 : 사이클을 순환하여도 이득이 없으므로 그대로 진행  \n",
    "- 사이클이 존재하고 음수값이 더 클 경우 : 사이클을 순환할 수록 가중치가 감소해 최소 비용을   \n",
    "찾는 입장에서 사이클을 무한히 순환하고 목적지에 도착함은 실질적인 최단 경로라 보기 어렵다  \n",
    "  \n"
   ]
  },
  {
   "cell_type": "code",
   "execution_count": null,
   "id": "d062fa53",
   "metadata": {},
   "outputs": [],
   "source": [
    "import sys\n",
    "\n",
    "input = sys.stdin.readline\n",
    "INF = int(1e9)\n",
    "\n",
    "N, M = map(int, input().split())\n",
    "Map = []\n",
    "for _ in range(M):\n",
    "    A, B, C = map(int, input().split())\n",
    "    Map.append((A, B, C))\n",
    "def Bellman_ford(Map, start):\n",
    "    dist = [INF for _ in range(N+1)]\n",
    "    dist[start] = 0\n",
    "\n",
    "    for i in range(N):\n",
    "        for S, D, W in Map:\n",
    "            if dist[S] != INF and dist[D] > dist[S] + W:\n",
    "                if i == N-1:\n",
    "                    return -1\n",
    "                dist[D] = dist[S] + W\n",
    "\n",
    "    return dist\n",
    "\n",
    "result = Bellman_ford(Map, 1)\n",
    "if result == -1:\n",
    "    print(-1)\n",
    "else:\n",
    "    for i in range(2, N+1):\n",
    "        if result[i] == INF:\n",
    "            print(-1)\n",
    "        else:\n",
    "            print(result[i])\n"
   ]
  }
 ],
 "metadata": {
  "kernelspec": {
   "display_name": "Python 3",
   "language": "python",
   "name": "python3"
  },
  "language_info": {
   "codemirror_mode": {
    "name": "ipython",
    "version": 3
   },
   "file_extension": ".py",
   "mimetype": "text/x-python",
   "name": "python",
   "nbconvert_exporter": "python",
   "pygments_lexer": "ipython3",
   "version": "3.8.11"
  }
 },
 "nbformat": 4,
 "nbformat_minor": 5
}
