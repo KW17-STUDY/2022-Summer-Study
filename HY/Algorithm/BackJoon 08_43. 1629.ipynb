{
 "cells": [
  {
   "cell_type": "markdown",
   "id": "1d36952f",
   "metadata": {},
   "source": [
    "아래의 코드가 처음에 짰던 코드이다.  \n",
    "하지만 시간 초과로 인해 틀리게 되었는데,   \n",
    "이거 말고 다른 방법이 있는건가 해서 해답을 보게 되었다.  \n",
    "https://velog.io/@grace0st/%EA%B3%B1%EC%85%88-%EB%B0%B1%EC%A4%80-1629%EB%B2%88-%ED%8C%8C%EC%9D%B4%EC%8D%AC"
   ]
  },
  {
   "cell_type": "code",
   "execution_count": 11,
   "id": "541f6925",
   "metadata": {},
   "outputs": [
    {
     "name": "stdout",
     "output_type": "stream",
     "text": [
      "10 11 12\n",
      "100000000\n",
      "100000000000\n"
     ]
    }
   ],
   "source": [
    "A, B, C = map(int, input().split())\n",
    "\n",
    "left = 1\n",
    "\n",
    "def mul(value, num):\n",
    "    global left\n",
    "    global C\n",
    "    result = value\n",
    "    if num == 1:\n",
    "        result *= left\n",
    "        print(result)\n",
    "    elif num > 1:\n",
    "        if num % 2 == 1:\n",
    "            left *= value\n",
    "        mul(value*value, num//2)\n",
    "\n",
    "#result = mul(A, B)\n",
    "#result = result % C\n",
    "#print(result)\n",
    "mul(A, B)"
   ]
  },
  {
   "cell_type": "markdown",
   "id": "e36d5035",
   "metadata": {},
   "source": [
    "더 생각하느라 시간 쓰지 않고 다른 사람 코드 보기를 잘했다.  \n",
    "해당 문제에서는 지수 법칙 A^(m+n) = A^m x A^n 과 나머지 분배 법칙 (AxB)%C = (A%C) *(B%C) % C 을   \n",
    "사용해야하는데 나는 내가 코드를 짜면서 지수 법칙은 잘 적용하였다.  \n",
    "문제는 나머지 분배 법칙 이었는데 이부분도 아래와 같이 적용하고 실행하니 성공적으로 해결할 수 있었다.\n",
    "\n"
   ]
  },
  {
   "cell_type": "code",
   "execution_count": null,
   "id": "f7aa7e96",
   "metadata": {},
   "outputs": [],
   "source": [
    "A, B, C = map(int, input().split())\n",
    "\n",
    "left = 1\n",
    "\n",
    "def mul(value, num):\n",
    "    global left\n",
    "    global C\n",
    "    result = value\n",
    "    if num == 1:\n",
    "        result = (result*left)%C\n",
    "        print(result)\n",
    "    elif num > 1:\n",
    "        if num % 2 == 1:\n",
    "            left *= value%C\n",
    "        mul_value = value%C\n",
    "        mul((mul_value*mul_value)%C, num//2)\n",
    "\n",
    "mul(A, B)"
   ]
  }
 ],
 "metadata": {
  "kernelspec": {
   "display_name": "Python 3",
   "language": "python",
   "name": "python3"
  },
  "language_info": {
   "codemirror_mode": {
    "name": "ipython",
    "version": 3
   },
   "file_extension": ".py",
   "mimetype": "text/x-python",
   "name": "python",
   "nbconvert_exporter": "python",
   "pygments_lexer": "ipython3",
   "version": "3.8.11"
  }
 },
 "nbformat": 4,
 "nbformat_minor": 5
}
