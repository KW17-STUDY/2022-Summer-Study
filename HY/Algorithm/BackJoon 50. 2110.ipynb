{
 "cells": [
  {
   "cell_type": "markdown",
   "id": "2514b962",
   "metadata": {},
   "source": [
    "이번 문제는 49번째 문제와 아주 유사하게 풀 수 있었는데 생각을 못했다.  \n",
    "우선 가장 최대가 되는 길이를 찾아야 하기에 해당 부분은 이분 탐색으로 풀어야한다.  \n"
   ]
  },
  {
   "cell_type": "code",
   "execution_count": null,
   "id": "e448e7c1",
   "metadata": {},
   "outputs": [],
   "source": [
    "import sys\n",
    "input = sys.stdin.readline\n",
    "\n",
    "N, C = map(int, input().split())\n",
    "arr = []\n",
    "for _ in range(N):\n",
    "    arr.append(int(input()))\n",
    "    \n",
    "arr.sort()\n",
    "\n",
    "left = 1\n",
    "right = arr[-1] - arr[0]\n",
    "result = 0\n",
    "\n",
    "while left <= right:\n",
    "    cnt = 1\n",
    "    mid = (left + right) // 2\n",
    "    \n",
    "    start = arr[0]\n",
    "    \n",
    "    for i in arr:\n",
    "        if i >= start + mid:\n",
    "            cnt += 1\n",
    "            start = i\n",
    "    if cnt >= C:\n",
    "        left = mid + 1\n",
    "        result = mid\n",
    "    else:\n",
    "        right = mid -1\n",
    "\n",
    "\n",
    "print(result)"
   ]
  }
 ],
 "metadata": {
  "kernelspec": {
   "display_name": "Python 3",
   "language": "python",
   "name": "python3"
  },
  "language_info": {
   "codemirror_mode": {
    "name": "ipython",
    "version": 3
   },
   "file_extension": ".py",
   "mimetype": "text/x-python",
   "name": "python",
   "nbconvert_exporter": "python",
   "pygments_lexer": "ipython3",
   "version": "3.8.11"
  }
 },
 "nbformat": 4,
 "nbformat_minor": 5
}
