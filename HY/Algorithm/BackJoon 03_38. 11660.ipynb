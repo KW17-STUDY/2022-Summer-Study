{
 "cells": [
  {
   "cell_type": "markdown",
   "id": "2692901d",
   "metadata": {},
   "source": [
    "2차원 배열을 입력받아 각 인덱스 별로 구간 합을 구하는 문제이다.  \n",
    "1. 어떻게 구간 합을 구해야할지에 대해 많은 고민을 했었는데, 가로를 기준으로 temp로 이전 값을 쌓아 두면서  \n",
    "진행하면 해결할 수 있었다.\n",
    "2. 가장 많은 시간을 투자해 생각한 부분으로, x1과 y1이 1일 때에는 계산을 다르게 해줘야 하므로   \n",
    "해당 경우를 예외 처리하여 주었다."
   ]
  },
  {
   "cell_type": "code",
   "execution_count": 1,
   "id": "d7853e19",
   "metadata": {},
   "outputs": [
    {
     "name": "stdout",
     "output_type": "stream",
     "text": [
      "4 3\n",
      "1 2 3 4\n",
      "2 3 4 5\n",
      "3 4 5 6\n",
      "4 5 6 7\n",
      "2 2 3 4\n",
      "32\n",
      "26\n",
      "27\n",
      "3 4 3 4\n",
      "18\n",
      "-9\n",
      "6\n",
      "1 1 4 4\n",
      "64\n"
     ]
    }
   ],
   "source": [
    "import sys\n",
    "input = sys.stdin.readline\n",
    "\n",
    "N, M = map(int, input().split())\n",
    "Map = []\n",
    "for _ in range(N):\n",
    "    Map.append(list(map(int, input().split())))\n",
    "\n",
    "arr = [[0 for _ in range(N)] for _ in range(N)]\n",
    "\n",
    "for i in range(0, N):\n",
    "    temp = 0\n",
    "    for j in range(0, N):\n",
    "        temp += Map[i][j]\n",
    "        if i == 0:\n",
    "            arr[i][j] = temp\n",
    "        else:\n",
    "            arr[i][j] = arr[i-1][j] + temp\n",
    "        \n",
    "for i in range(M):\n",
    "    x1, y1, x2, y2 = map(int, input().split())\n",
    "    x1, y1, x2, y2 = x1 - 1, y1 - 1, x2 - 1, y2 - 1\n",
    "    \n",
    "    result = arr[x2][y2]\n",
    "    if x1 > 0:\n",
    "        result -= arr[x1-1][y2]\n",
    "        \n",
    "    if y1 > 0:\n",
    "        result -= arr[x2][y1-1]\n",
    "    \n",
    "    if x1>0 and y1>0:\n",
    "        result += arr[x1-1][y1-1]\n",
    "    \n",
    "    print(result)\n",
    "    "
   ]
  },
  {
   "cell_type": "code",
   "execution_count": null,
   "id": "3139db8b",
   "metadata": {},
   "outputs": [],
   "source": []
  }
 ],
 "metadata": {
  "kernelspec": {
   "display_name": "Python 3",
   "language": "python",
   "name": "python3"
  },
  "language_info": {
   "codemirror_mode": {
    "name": "ipython",
    "version": 3
   },
   "file_extension": ".py",
   "mimetype": "text/x-python",
   "name": "python",
   "nbconvert_exporter": "python",
   "pygments_lexer": "ipython3",
   "version": "3.8.11"
  }
 },
 "nbformat": 4,
 "nbformat_minor": 5
}
