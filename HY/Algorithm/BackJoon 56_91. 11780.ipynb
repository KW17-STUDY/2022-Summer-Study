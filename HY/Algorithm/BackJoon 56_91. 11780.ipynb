{
 "cells": [
  {
   "cell_type": "code",
   "execution_count": null,
   "id": "eb46a7f0",
   "metadata": {},
   "outputs": [],
   "source": [
    "import sys\n",
    "\n",
    "input = sys.stdin.readline\n",
    "\n",
    "INF = float('inf')\n",
    "\n",
    "N = int(input())\n",
    "M = int(input())\n",
    "\n",
    "dist = [[INF for _ in range(N+1)] for _ in range(N+1)]\n",
    "log = [[str(i) for _ in range(N+1)] for i in range(N+1)]\n",
    "cnt = [[0 for _ in range(N+1)] for _ in range(N+1)]\n",
    "\n",
    "for _ in range(M):\n",
    "    A, B, C = map(int, input().split())\n",
    "    dist[A][B] = min(dist[A][B], C)\n",
    "    cnt[A][B] = 1\n",
    "\n",
    "for i in range(N+1):\n",
    "    dist[i][i] = 0\n",
    "\n",
    "for k in range(1, N+1):\n",
    "    for i in range(1, N+1):\n",
    "        for j in range(1, N+1):\n",
    "            temp = dist[i][k] + dist[k][j]\n",
    "            if temp < dist[i][j]:\n",
    "                dist[i][j] = temp\n",
    "                log[i][j] = log[i][k] + \" \" + log[k][j]\n",
    "                cnt[i][j] = cnt[i][k] + cnt[k][j]\n",
    "\n",
    "for i in range(1, N+1):\n",
    "    for j in range(1, N+1):\n",
    "        if dist[i][j] >= INF:\n",
    "            print(0, end= \" \")\n",
    "        else:\n",
    "            print(dist[i][j], end = \" \")\n",
    "\n",
    "        if cnt[i][j] != 0:\n",
    "            log[i][j] = log[i][j] + \" \" + str(j)\n",
    "    print()\n",
    "\n",
    "for i in range(1, N+1):\n",
    "    for j in range(1, N+1):\n",
    "        if cnt[i][j] == 0:\n",
    "            print(0)\n",
    "            continue\n",
    "        else:\n",
    "            print(cnt[i][j] + 1, log[i][j])\n",
    "\n",
    "\n"
   ]
  }
 ],
 "metadata": {
  "kernelspec": {
   "display_name": "Python 3 (ipykernel)",
   "language": "python",
   "name": "python3"
  },
  "language_info": {
   "codemirror_mode": {
    "name": "ipython",
    "version": 3
   },
   "file_extension": ".py",
   "mimetype": "text/x-python",
   "name": "python",
   "nbconvert_exporter": "python",
   "pygments_lexer": "ipython3",
   "version": "3.9.12"
  }
 },
 "nbformat": 4,
 "nbformat_minor": 5
}
