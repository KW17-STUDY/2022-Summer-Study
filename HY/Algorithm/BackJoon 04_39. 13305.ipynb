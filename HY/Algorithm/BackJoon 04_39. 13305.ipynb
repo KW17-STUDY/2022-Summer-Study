{
 "cells": [
  {
   "cell_type": "markdown",
   "id": "cdf591cf",
   "metadata": {},
   "source": [
    "아래의 코드가 가장 처음으로 풀었던 코드이다.  \n",
    "예제의  \n",
    "4   \n",
    "2 3 1   \n",
    "5 2 4 1  \n",
    "의 경우에는 정상적으로 작동하지만\n",
    "점수는 17점 밖에 나오지 않았다. 그래서 원인이 무엇인가 고민하며, 개수가 더 긴 경우를 테스트 해보았다.  \n",
    "\n",
    "10\n",
    "2 3 1 2 3 1 2 3 1\n",
    "5 2 4 1 5 2 4 1 5 2 4 1  \n",
    "을 테스트했을 때 조금만 생각해 보면\n",
    "이전 코드는 이전 누적 값 + 현재 기준비용으로 곱한 통 계산을 넘겨주었는데\n",
    "5 2 4 와 같이 오히려 비용이 2에서 4로 늘어나는 경우에는 이전 비용이 2인 곳에서 기름을 더 넣는 것이 이득이다.  \n",
    "그래서 아래의 코드에 min_cost라는 변수를 추가하여 해당 문제를 100점으로 해결하였다.\n"
   ]
  },
  {
   "cell_type": "code",
   "execution_count": 11,
   "id": "591ce3e5",
   "metadata": {},
   "outputs": [
    {
     "name": "stdout",
     "output_type": "stream",
     "text": [
      "4\n",
      "2 3 1\n",
      "5 2 4 1\n",
      "18\n"
     ]
    }
   ],
   "source": [
    "N = int(input())\n",
    "\n",
    "dist = list(map(int, input().split()))\n",
    "cost = list(map(int, input().split()))\n",
    "\n",
    "Sum = sum(dist)\n",
    "max_sum = []\n",
    "min_sum = 0\n",
    "for i in range(N-1):\n",
    "    max_sum.append( min_sum + Sum * cost[i] )\n",
    "    min_sum += dist[i]*cost[i]\n",
    "    Sum -= dist[i]\n",
    "    \n",
    "print(min(max_sum))"
   ]
  },
  {
   "cell_type": "code",
   "execution_count": null,
   "id": "0ad74393",
   "metadata": {},
   "outputs": [],
   "source": [
    "N = int(input())\n",
    "\n",
    "dist = list(map(int, input().split()))\n",
    "cost = list(map(int, input().split()))\n",
    "\n",
    "Sum = sum(dist)\n",
    "max_sum = []\n",
    "min_sum = 0\n",
    "min_cost = 1000000000\n",
    "for i in range(N-1):\n",
    "    min_cost = min(min_cost, cost[i])\n",
    "    max_sum.append( min_sum + Sum *min_cost )\n",
    "    min_sum += dist[i]*min_cost\n",
    "    Sum -= dist[i]\n",
    "\n",
    "print(min(max_sum))"
   ]
  }
 ],
 "metadata": {
  "kernelspec": {
   "display_name": "Python 3",
   "language": "python",
   "name": "python3"
  },
  "language_info": {
   "codemirror_mode": {
    "name": "ipython",
    "version": 3
   },
   "file_extension": ".py",
   "mimetype": "text/x-python",
   "name": "python",
   "nbconvert_exporter": "python",
   "pygments_lexer": "ipython3",
   "version": "3.8.11"
  }
 },
 "nbformat": 4,
 "nbformat_minor": 5
}
