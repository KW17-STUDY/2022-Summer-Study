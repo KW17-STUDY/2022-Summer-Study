{
 "cells": [
  {
   "cell_type": "code",
   "execution_count": 3,
   "id": "15e4ffde",
   "metadata": {},
   "outputs": [
    {
     "name": "stdout",
     "output_type": "stream",
     "text": [
      "7\n",
      "6\n",
      "1 2\n",
      "2 3\n",
      "1 5\n",
      "5 2\n",
      "5 6\n",
      "4 7\n",
      "<function warm_virus at 0x000001DBEBA99DC0>\n"
     ]
    }
   ],
   "source": [
    "from collections import defaultdict\n",
    "import sys\n",
    "\n",
    "input = sys.stdin.readline\n",
    "\n",
    "num_c = int(input())\n",
    "N = int(input())\n",
    "Map = defaultdict(list)\n",
    "visited = [False for _ in range(num_c + 1)]\n",
    "\n",
    "for _ in range(N):\n",
    "    u, v = map(int, input().split())\n",
    "    Map[u] += [v]\n",
    "    Map[v] += [u]\n",
    "    \n",
    "for i in Map:\n",
    "    Map[i].sort(reverse = True)\n",
    "\n",
    "def warm_virus(Map):\n",
    "    stack = [1]\n",
    "    cnt = 0\n",
    "    while stack:\n",
    "        node = stack.pop()\n",
    "        if visited[node] == False:\n",
    "            visited[node] = True\n",
    "            stack.extend(Map[node])\n",
    "            cnt += 1\n",
    "                \n",
    "    return cnt-1\n",
    "\n",
    "result = warm_virus(Map)\n",
    "print(result)\n",
    "        "
   ]
  },
  {
   "cell_type": "code",
   "execution_count": null,
   "id": "29ebb1b8",
   "metadata": {},
   "outputs": [],
   "source": []
  }
 ],
 "metadata": {
  "kernelspec": {
   "display_name": "Python 3",
   "language": "python",
   "name": "python3"
  },
  "language_info": {
   "codemirror_mode": {
    "name": "ipython",
    "version": 3
   },
   "file_extension": ".py",
   "mimetype": "text/x-python",
   "name": "python",
   "nbconvert_exporter": "python",
   "pygments_lexer": "ipython3",
   "version": "3.8.11"
  }
 },
 "nbformat": 4,
 "nbformat_minor": 5
}
