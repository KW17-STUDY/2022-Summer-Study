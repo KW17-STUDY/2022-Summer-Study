{
 "cells": [
  {
   "cell_type": "code",
   "execution_count": null,
   "id": "1a0031fc",
   "metadata": {},
   "outputs": [],
   "source": [
    "import heapq\n",
    "import sys\n",
    "\n",
    "input = sys.stdin.readline\n",
    "arr = []\n",
    "result = []\n",
    "N = int(input())\n",
    "\n",
    "for _ in range(N):\n",
    "    K = int(input())\n",
    "    if K == 0:\n",
    "        if len(arr) == 0:\n",
    "            result.append(0)\n",
    "        else:\n",
    "            result.append(heapq.heappop(arr))\n",
    "    else:\n",
    "        heapq.heappush(arr, K)\n",
    "\n",
    "for i in result:\n",
    "    print(i)"
   ]
  }
 ],
 "metadata": {
  "kernelspec": {
   "display_name": "Python 3",
   "language": "python",
   "name": "python3"
  },
  "language_info": {
   "codemirror_mode": {
    "name": "ipython",
    "version": 3
   },
   "file_extension": ".py",
   "mimetype": "text/x-python",
   "name": "python",
   "nbconvert_exporter": "python",
   "pygments_lexer": "ipython3",
   "version": "3.8.11"
  }
 },
 "nbformat": 4,
 "nbformat_minor": 5
}
