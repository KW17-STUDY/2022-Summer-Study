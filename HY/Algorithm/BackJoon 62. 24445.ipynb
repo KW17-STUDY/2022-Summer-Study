{
 "cells": [
  {
   "cell_type": "code",
   "execution_count": null,
   "id": "5fb10a3e",
   "metadata": {},
   "outputs": [],
   "source": [
    "# 이게 맞는 코드\n",
    "from collections import deque \n",
    "import sys \n",
    "input = sys.stdin.readline\n",
    "from collections import defaultdict\n",
    "N, M, R = list(map(int, input().split()))\n",
    "arr = defaultdict(list)\n",
    "\n",
    "\n",
    "for _ in range(M):\n",
    "    u, v = list(map(int, input().split()))\n",
    "    arr[u] += [v]\n",
    "    arr[v] += [u]\n",
    "    \n",
    "for i in arr:\n",
    "    arr[i].sort(reverse = True)\n",
    "    \n",
    "visited = [False for _ in range (N+1)]\n",
    "\n",
    "def bfs(graph, start_node):\n",
    "    queue = deque()\n",
    "    result = [0 for _ in range(N+1)]\n",
    "    queue.append(start_node)\n",
    "    cnt = 1\n",
    "    while queue:\n",
    "        node = queue.popleft()\n",
    "        \n",
    "        if visited[node] == False:\n",
    "            result[node] = cnt\n",
    "            cnt += 1\n",
    "            visited[node] = True\n",
    "            queue.extend(graph[node])\n",
    "            \n",
    "    return result\n",
    "            \n",
    "\n",
    "\n",
    "for i in bfs(arr, R)[1:]:\n",
    "    print(i)"
   ]
  }
 ],
 "metadata": {
  "kernelspec": {
   "display_name": "Python 3",
   "language": "python",
   "name": "python3"
  },
  "language_info": {
   "codemirror_mode": {
    "name": "ipython",
    "version": 3
   },
   "file_extension": ".py",
   "mimetype": "text/x-python",
   "name": "python",
   "nbconvert_exporter": "python",
   "pygments_lexer": "ipython3",
   "version": "3.8.11"
  }
 },
 "nbformat": 4,
 "nbformat_minor": 5
}
