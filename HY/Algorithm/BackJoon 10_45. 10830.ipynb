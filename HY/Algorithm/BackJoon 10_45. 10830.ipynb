{
 "cells": [
  {
   "cell_type": "code",
   "execution_count": 20,
   "id": "afc5ea80",
   "metadata": {},
   "outputs": [
    {
     "name": "stdout",
     "output_type": "stream",
     "text": [
      "2 5\n",
      "1 2\n",
      "3 4\n",
      "69 558 \n",
      "337 406 \n"
     ]
    }
   ],
   "source": [
    "N, B = map(int, input().split())\n",
    "\n",
    "arr = []\n",
    "left = [[0 for _ in range(N)] for _ in range(N)]\n",
    "for i in range(N):\n",
    "    for j in range(N):\n",
    "        if i == j:\n",
    "            left[i][j] = 1\n",
    "            \n",
    "            \n",
    "for _ in range(N):\n",
    "    arr.append(list(map(int, input().split())))\n",
    "    \n",
    "def multiply_op(arr_1, arr_2):\n",
    "    result = [[0 for _ in range(N)] for _ in range(N)]\n",
    "    for i in range(N):\n",
    "        for j in range(N):\n",
    "            for k in range(N):\n",
    "                result[i][j] += arr_1[i][k] * arr_2[k][j] % 1000\n",
    "            result[i][j] = result[i][j] % 1000\n",
    "    return result\n",
    "                \n",
    "    \n",
    "def mul_arr(Arr, num, left):\n",
    "    if num == 1:\n",
    "        Arr = multiply_op(Arr, left)\n",
    "        return Arr\n",
    "    elif num > 1:\n",
    "        if num % 2 == 1:\n",
    "            left = multiply_op(Arr, left)\n",
    "        return mul_arr(multiply_op(Arr, Arr), num//2, left)\n",
    "            \n",
    "Result = mul_arr(arr, B, left)\n",
    "\n",
    "for i in range(N):\n",
    "    for j in range(N):\n",
    "        print(Result[i][j], end = \" \")\n",
    "    print()"
   ]
  },
  {
   "cell_type": "markdown",
   "id": "f66f647e",
   "metadata": {},
   "source": [
    "N, B = map(int, input().split())\n",
    "\n",
    "arr = []\n",
    "left = [[0 for _ in range(N)] for _ in range(N)]\n",
    "for i in range(N):\n",
    "    for j in range(N):\n",
    "        if i == j:\n",
    "            left[i][j] = 1\n",
    "            \n",
    "            \n",
    "for _ in range(N):\n",
    "    arr.append(list(map(int, input().split())))\n",
    "    \n",
    "def multiply_op(arr_1, arr_2):\n",
    "    result = [[0 for _ in range(N)] for _ in range(N)]\n",
    "    for i in range(N):\n",
    "        for j in range(N):\n",
    "            for k in range(N):\n",
    "                result[i][j] += arr_1[i][k] * arr_2[k][j]\n",
    "    return result\n",
    "                \n",
    "    \n",
    "def mul_arr(Arr, num, left):\n",
    "    result = [[Arr[i][j] for j in range(N)] for i in range(N)]\n",
    "    for i in range(num-1):\n",
    "        result = multiply_op(result, Arr)\n",
    "    result = [[result[i][j]%1000 for j in range(N)] for i in range(N)]\n",
    "    return result\n",
    "        \n",
    "        \n",
    "Result = mul_arr(arr, B, left)\n",
    "\n",
    "for i in range(N):\n",
    "    for j in range(N):\n",
    "        print(Result[i][j], end = \" \")\n",
    "    print()"
   ]
  },
  {
   "cell_type": "code",
   "execution_count": null,
   "id": "efbc278a",
   "metadata": {},
   "outputs": [],
   "source": []
  }
 ],
 "metadata": {
  "kernelspec": {
   "display_name": "Python 3",
   "language": "python",
   "name": "python3"
  },
  "language_info": {
   "codemirror_mode": {
    "name": "ipython",
    "version": 3
   },
   "file_extension": ".py",
   "mimetype": "text/x-python",
   "name": "python",
   "nbconvert_exporter": "python",
   "pygments_lexer": "ipython3",
   "version": "3.8.11"
  }
 },
 "nbformat": 4,
 "nbformat_minor": 5
}
