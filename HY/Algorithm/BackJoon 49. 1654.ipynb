{
 "cells": [
  {
   "cell_type": "markdown",
   "id": "5ed339b5",
   "metadata": {},
   "source": [
    "이번 문제는 어떻게 이분탐색을 적용해야하나 고민을 했었다.  \n",
    "https://claude-u.tistory.com/443\n",
    "해당 블로그를 참고해서 문제를 해결했는데 \n",
    "for 문으로 거리를 측정해야한다고 생각했는데, 그게 아니라 이분 탐색을 통해 값을 찾을 수 있었다.  "
   ]
  },
  {
   "cell_type": "code",
   "execution_count": 6,
   "id": "bdc1095e",
   "metadata": {},
   "outputs": [
    {
     "name": "stdout",
     "output_type": "stream",
     "text": [
      "4 11\n",
      "802\n",
      "743\n",
      "457\n",
      "539\n",
      "200\n"
     ]
    }
   ],
   "source": [
    "K, N = map(int, input().split())\n",
    "arr = []\n",
    "\n",
    "for _ in range(K):\n",
    "    arr.append(int(input()))\n",
    "    \n",
    "left = 1\n",
    "right = max(arr)\n",
    "\n",
    "while left <= right:\n",
    "    cnt = 0\n",
    "    mid = (left + right) // 2\n",
    "    for i in arr:\n",
    "        cnt += i // mid\n",
    "    \n",
    "    if cnt >= N:\n",
    "        left = mid+1\n",
    "    else:\n",
    "        right = mid-1\n",
    "        \n",
    "print(right)"
   ]
  },
  {
   "cell_type": "code",
   "execution_count": null,
   "id": "6b60d021",
   "metadata": {},
   "outputs": [],
   "source": []
  }
 ],
 "metadata": {
  "kernelspec": {
   "display_name": "Python 3",
   "language": "python",
   "name": "python3"
  },
  "language_info": {
   "codemirror_mode": {
    "name": "ipython",
    "version": 3
   },
   "file_extension": ".py",
   "mimetype": "text/x-python",
   "name": "python",
   "nbconvert_exporter": "python",
   "pygments_lexer": "ipython3",
   "version": "3.8.11"
  }
 },
 "nbformat": 4,
 "nbformat_minor": 5
}
