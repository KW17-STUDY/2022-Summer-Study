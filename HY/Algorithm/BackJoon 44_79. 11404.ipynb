{
 "cells": [
  {
   "cell_type": "markdown",
   "id": "af4a7c33",
   "metadata": {},
   "source": [
    "# 플로이드 워셜 알고리즘\n",
    "\n",
    "알고리즘은 맞게 구현했는데, 정답이 계속 다르게 나왔었다.  \n",
    "무엇이 문제인지 몰랐었는데, 문제에서 '시작 도시와 도착 도시를 연결하는 노선은 하나가 아닐 수 있다.'라는  \n",
    "문구가 있었다. 나는 단방향으로 서로 다르게 a -> b, b -> a 만을 생각했는데, 정말 같은 경로로 다른 비용  \n",
    "2개가 있을 수 있다는 의미였다.  문제를 좀더 잘 읽어야겠다."
   ]
  },
  {
   "cell_type": "code",
   "execution_count": null,
   "id": "146e8161",
   "metadata": {},
   "outputs": [],
   "source": [
    "import sys\n",
    "\n",
    "input = sys.stdin.readline\n",
    "INF = int(1e9)\n",
    "\n",
    "N = int(input())\n",
    "M = int(input())\n",
    "\n",
    "dist = [[INF for _ in range(N+1)] for _ in range(N+1)]\n",
    "\n",
    "for i in range(1, N+1):\n",
    "    for j in range(1, N+1):\n",
    "        if i == j:\n",
    "            dist[i][j] = 0\n",
    "\n",
    "\n",
    "for _ in range(M):\n",
    "    a, b, c = map(int, input().split())\n",
    "    dist[a][b] = min(dist[a][b], c)\n",
    "\n",
    "def floyd(dist):\n",
    "    for k in range(1, N + 1):\n",
    "        for i in range(1, N + 1):\n",
    "            for j in range(1, N + 1):\n",
    "                dist[i][j] = min(dist[i][k] + dist[k][j], dist[i][j])\n",
    "\n",
    "\n",
    "    return dist\n",
    "\n",
    "result = floyd(dist)\n",
    "\n",
    "for i in range(1, N+1):\n",
    "    for j in range(1, N+1):\n",
    "        if dist[i][j] == INF:\n",
    "            print(0, end = \" \")\n",
    "        else:\n",
    "            print(dist[i][j], end = \" \")\n",
    "    print()"
   ]
  }
 ],
 "metadata": {
  "kernelspec": {
   "display_name": "Python 3",
   "language": "python",
   "name": "python3"
  },
  "language_info": {
   "codemirror_mode": {
    "name": "ipython",
    "version": 3
   },
   "file_extension": ".py",
   "mimetype": "text/x-python",
   "name": "python",
   "nbconvert_exporter": "python",
   "pygments_lexer": "ipython3",
   "version": "3.8.11"
  }
 },
 "nbformat": 4,
 "nbformat_minor": 5
}
