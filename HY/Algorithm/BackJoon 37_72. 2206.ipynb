{
 "cells": [
  {
   "cell_type": "markdown",
   "id": "f365d3c3",
   "metadata": {},
   "source": [
    "아래는 오답 코드, 틀린 이유는   \n",
    "따로 visited를 관리하는게 아닌 Map을 바로 바꾸기에  \n",
    "벽을 뚫었는지 안 뚫었는지에 따라 다른 경로가 달라지는것을 관리 못하기 때문  \n",
    "0 0 0 0  \n",
    "1 1 1 0  \n",
    "1 1 0 0  \n",
    "0 0 0 0  \n",
    "0 1 1 1  \n",
    "0 0 0 0  \n",
    "1 1 1 0  \n",
    "\n",
    "위와 같은 상황일때 [2][3]을 뚫고 가면 [4][3]부터의 경로는  \n",
    "시간이 입력되버려서 다른 경우의수가 해당 경로를 이용할 수 없음  \n",
    "실제 최단 경로는 [5][4]를 뚫어야 함에도 불구하고\n",
    "\n"
   ]
  },
  {
   "cell_type": "code",
   "execution_count": 2,
   "id": "d886e60c",
   "metadata": {},
   "outputs": [
    {
     "name": "stdout",
     "output_type": "stream",
     "text": [
      "1 1\n",
      "1011\n",
      "<map object at 0x000002B0880C7880>\n"
     ]
    }
   ],
   "source": [
    "import sys\n",
    "from collections import deque\n",
    "input = sys.stdin.readline\n",
    "N, M = map(int, input().split())\n",
    "\n",
    "Map = []\n",
    "for i in range(N):\n",
    "    Map.append(list(map(int, input()[:-1])))\n",
    "\n",
    "def bfs(Map):\n",
    "    queue = deque()\n",
    "    queue.append((0,0,1))\n",
    "    Map[0][0] = -1\n",
    "    dx = [0, 1, 0, -1]\n",
    "    dy = [-1, 0, 1, 0]\n",
    "    \n",
    "    while queue:\n",
    "        x, y, p = queue.popleft()\n",
    "        \n",
    "        if x == N - 1 and y == M - 1:\n",
    "            return -Map[x][y]\n",
    "        \n",
    "        for i in range(4):\n",
    "            nx = x + dx[i]\n",
    "            ny = y + dy[i]\n",
    "            if nx < 0 or nx > N-1 or ny <0 or ny > M-1:\n",
    "                continue\n",
    "            if Map[nx][ny] == 0:\n",
    "                queue.append((nx, ny, p))\n",
    "                Map[nx][ny] = Map[x][y] - 1\n",
    "            elif p == 1 and Map[nx][ny] == 1:\n",
    "                queue.append((nx, ny, 0))\n",
    "                Map[nx][ny] = Map[x][y] - 1\n",
    "\n",
    "    return -1\n",
    "                \n",
    "print(bfs(Map))"
   ]
  },
  {
   "cell_type": "markdown",
   "id": "02eb5fa8",
   "metadata": {},
   "source": [
    "아래 코드가 정답 코드"
   ]
  },
  {
   "cell_type": "code",
   "execution_count": null,
   "id": "ab40769d",
   "metadata": {},
   "outputs": [],
   "source": [
    "import sys\n",
    "from collections import deque\n",
    "input = sys.stdin.readline\n",
    "N, M = map(int, input().split())\n",
    "\n",
    "Map = []\n",
    "for i in range(N):\n",
    "    Map.append(list(map(int, input()[:-1])))\n",
    "\n",
    "visited = [[[0 for _ in range(2)] for _ in range(M)] for _ in range(N)]\n",
    "\n",
    "def bfs(Map):\n",
    "    queue = deque()\n",
    "    queue.append((0,0,1))\n",
    "    visited[0][0][1] = 1\n",
    "    dx = [0, 1, 0, -1]\n",
    "    dy = [-1, 0, 1, 0]\n",
    "    \n",
    "    while queue:\n",
    "        x, y, p = queue.popleft()\n",
    "        \n",
    "        if x == N - 1 and y == M - 1:\n",
    "            return visited[x][y][p]\n",
    "        \n",
    "        for i in range(4):\n",
    "            nx = x + dx[i]\n",
    "            ny = y + dy[i]\n",
    "            if nx < 0 or nx > N-1 or ny <0 or ny > M-1:\n",
    "                continue\n",
    "            if Map[nx][ny] == 0 and visited[nx][ny][p] == 0: # visited가 아닌 Map만 확인해서 메모리 초과오류\n",
    "                queue.append((nx, ny, p))\n",
    "                visited[nx][ny][p] = visited[x][y][p] + 1\n",
    "            elif p == 1 and Map[nx][ny] == 1:\n",
    "                queue.append((nx, ny, 0))\n",
    "                visited[nx][ny][0] = visited[x][y][p] + 1\n",
    "\n",
    "    return -1\n",
    "                \n",
    "print(bfs(Map))"
   ]
  }
 ],
 "metadata": {
  "kernelspec": {
   "display_name": "Python 3",
   "language": "python",
   "name": "python3"
  },
  "language_info": {
   "codemirror_mode": {
    "name": "ipython",
    "version": 3
   },
   "file_extension": ".py",
   "mimetype": "text/x-python",
   "name": "python",
   "nbconvert_exporter": "python",
   "pygments_lexer": "ipython3",
   "version": "3.8.11"
  }
 },
 "nbformat": 4,
 "nbformat_minor": 5
}
