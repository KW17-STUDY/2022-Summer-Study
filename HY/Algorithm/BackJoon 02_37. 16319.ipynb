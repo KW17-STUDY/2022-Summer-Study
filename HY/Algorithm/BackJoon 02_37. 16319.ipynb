{
 "cells": [
  {
   "cell_type": "markdown",
   "id": "a2c5d065",
   "metadata": {},
   "source": [
    "아래의 코드는 import sys를 했을 때 indexerror가 발생한다.\n",
    "이유인 즉슨 r 부분을 포함한 곳에서 뒤의 개행문자가 같이 int로 변경되어서 인듯하다.\n",
    "그래서 import sys를 하지 않고 하니 위의 error는 발생하지 않았다. 하지만 50점 점수밖에 받지 못했다."
   ]
  },
  {
   "cell_type": "code",
   "execution_count": 2,
   "id": "05c56e5d",
   "metadata": {},
   "outputs": [
    {
     "name": "stdout",
     "output_type": "stream",
     "text": [
      "a\n",
      "1\n",
      "b 0 0\n",
      "0\n"
     ]
    }
   ],
   "source": [
    "#import sys\n",
    "#input = sys.stdin.readline\n",
    "\n",
    "arr = input()\n",
    "\n",
    "num = int(input())\n",
    "\n",
    "cnt = [0 for _ in range(ord('z')-ord('a')+1)]\n",
    "\n",
    "prefix = [[0 for _ in range(ord('z')-ord('a')+1)] for _ in range(len(arr))]\n",
    "\n",
    "std = ord('a')\n",
    "\n",
    "for i in range(len(arr)):\n",
    "    cnt[ord(arr[i]) - std] += 1\n",
    "    prefix[i] = [j for j in cnt]\n",
    "    \n",
    "for _ in range(num):\n",
    "    ch, l, r = input().split()\n",
    "    ch, l, r = ord(ch) - std, int(l), int(r)\n",
    "    if l == 0:\n",
    "        print(prefix[r][ch])\n",
    "    else:\n",
    "        print(prefix[r][ch] - prefix[l-1][ch])"
   ]
  },
  {
   "cell_type": "markdown",
   "id": "b331df1c",
   "metadata": {},
   "source": [
    "아래의 코드는 import sys를 포함하고 모든 input에 [:-1]을 통해 개행 문자를 제거 시켰다.  \n",
    "처음에는 r 부분에만 개행을 제거했는데 map(int) 가 없이 string을 그대로 받아 들이는 부분들도 있기에 안전하게  \n",
    "모든 input에서 제거 시켰다.\n",
    "하지만 똑같이 50점이 나왔고, pypy3를 통해 실행하면 성공적으로 되었다."
   ]
  },
  {
   "cell_type": "code",
   "execution_count": null,
   "id": "34473f49",
   "metadata": {},
   "outputs": [],
   "source": [
    "import sys\n",
    "input = sys.stdin.readline\n",
    "\n",
    "arr = input()[:-1]\n",
    "\n",
    "num = int(input()[:-1])\n",
    "\n",
    "cnt = [0 for _ in range(ord('z')-ord('a')+1)]\n",
    "\n",
    "prefix = [[0 for _ in range(ord('z')-ord('a')+1)] for _ in range(len(arr))]\n",
    "\n",
    "std = ord('a')\n",
    "\n",
    "for i in range(len(arr)):\n",
    "    cnt[ord(arr[i]) - std] += 1\n",
    "    prefix[i] = [j for j in cnt]\n",
    "    \n",
    "for _ in range(num):\n",
    "    temp = input()[:-1]\n",
    "    #ch, l, r = input().split()\n",
    "    ch, l, r = temp.split()\n",
    "    ch, l, r = ord(ch) - std, int(l), int(r)\n",
    "    if l == 0:\n",
    "        print(prefix[r][ch])\n",
    "    else:\n",
    "        print(prefix[r][ch] - prefix[l-1][ch])"
   ]
  },
  {
   "cell_type": "code",
   "execution_count": null,
   "id": "8d208b52",
   "metadata": {},
   "outputs": [],
   "source": []
  },
  {
   "cell_type": "code",
   "execution_count": null,
   "id": "1eb0346b",
   "metadata": {},
   "outputs": [],
   "source": [
    "import sys\n",
    "input = sys.stdin.readline\n",
    "\n",
    "arr = input()[:-1]\n",
    "\n",
    "num = int(input()[:-1])\n",
    "\n",
    "cnt = [0 for _ in range(ord('z')-ord('a')+1)]\n",
    "\n",
    "prefix = [[0 for _ in range(ord('z')-ord('a')+1)] for _ in range(len(arr))]\n",
    "\n",
    "std = ord('a')\n",
    "\n",
    "for i in range(len(arr)):\n",
    "    cnt[ord(arr[i]) - std] += 1\n",
    "    prefix[i] = [j for j in cnt]\n",
    "    \n",
    "for _ in range(num):\n",
    "    temp = input()[:-1]\n",
    "    #ch, l, r = input().split()\n",
    "    ch, l, r = temp.split()\n",
    "    ch, l, r = ord(ch) - std, int(l), int(r)\n",
    "    if l == 0:\n",
    "        sys.stdout.write(str(prefix[r][ch]) + '\\n')\n",
    "    else:\n",
    "        sys.stdout.write(str(prefix[r][ch] - prefix[l-1][ch]) + '\\n')"
   ]
  }
 ],
 "metadata": {
  "kernelspec": {
   "display_name": "Python 3",
   "language": "python",
   "name": "python3"
  },
  "language_info": {
   "codemirror_mode": {
    "name": "ipython",
    "version": 3
   },
   "file_extension": ".py",
   "mimetype": "text/x-python",
   "name": "python",
   "nbconvert_exporter": "python",
   "pygments_lexer": "ipython3",
   "version": "3.8.11"
  }
 },
 "nbformat": 4,
 "nbformat_minor": 5
}
