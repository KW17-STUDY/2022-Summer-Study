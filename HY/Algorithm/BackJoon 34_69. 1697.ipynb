{
 "cells": [
  {
   "cell_type": "code",
   "execution_count": null,
   "id": "00197347",
   "metadata": {},
   "outputs": [],
   "source": [
    "from collections import deque\n",
    "\n",
    "N, K = map(int, input().split())\n",
    "\n",
    "bnd = max(K, 2*N)\n",
    "bnd = min(bnd, 100001)\n",
    "\n",
    "Map = [0 for _ in range(100001)]\n",
    "Map[K] = -1\n",
    "\n",
    "\n",
    "def BFS(Map):\n",
    "    queue = deque()\n",
    "    global N\n",
    "    queue.append((N, 0))\n",
    "    while queue:\n",
    "        x, t = queue.popleft()\n",
    "        if Map[x] == -1:\n",
    "            return t\n",
    "        else:\n",
    "            Map[x] = t+1\n",
    "        if x < K:\n",
    "            if x + 1 <= 100001 and Map[x + 1] <= 0:\n",
    "                queue.append((x + 1, t + 1))\n",
    "            if 2*x <= 100001 and Map[2 * x] <= 0:\n",
    "                queue.append((2 * x, t + 1))\n",
    "        if x - 1 >= 0 and Map[x - 1] <= 0: \n",
    "            queue.append((x - 1, t + 1))\n",
    "print(BFS(Map))"
   ]
  },
  {
   "cell_type": "code",
   "execution_count": null,
   "id": "0f1722cd",
   "metadata": {},
   "outputs": [],
   "source": [
    "def find(n, k):\n",
    "    if n >= k:\n",
    "        return n-k\n",
    "    elif k == 1:\n",
    "        return 1\n",
    "    elif k%2:\n",
    "        return min(find(n, k-1), find(n, k+1)) + 1\n",
    "    else:\n",
    "        return min(k-n, find(n, k//2) + 1)\n",
    "\n",
    "import sys\n",
    "n, k = map(int, sys.stdin.readline().split())\n",
    "print(find(n, k))"
   ]
  }
 ],
 "metadata": {
  "kernelspec": {
   "display_name": "Python 3",
   "language": "python",
   "name": "python3"
  },
  "language_info": {
   "codemirror_mode": {
    "name": "ipython",
    "version": 3
   },
   "file_extension": ".py",
   "mimetype": "text/x-python",
   "name": "python",
   "nbconvert_exporter": "python",
   "pygments_lexer": "ipython3",
   "version": "3.8.11"
  }
 },
 "nbformat": 4,
 "nbformat_minor": 5
}
